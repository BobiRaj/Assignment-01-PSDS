{
 "cells": [
  {
   "cell_type": "markdown",
   "id": "8545341d",
   "metadata": {},
   "source": [
    "### Q1. List any five functions of the pandas library with execution."
   ]
  },
  {
   "cell_type": "markdown",
   "id": "d8bc6e80",
   "metadata": {},
   "source": [
    "here are five common functions of the Pandas library with example code execution:\n",
    "\n",
    "1. read_csv(): This function is used to read a CSV file and create a DataFrame object from it.cmcmm"
   ]
  },
  {
   "cell_type": "code",
   "execution_count": 2,
   "id": "b18e8592",
   "metadata": {},
   "outputs": [],
   "source": [
    "import pandas as pd\n",
    "\n",
    "df = pd.read_csv('data.csv')\n"
   ]
  },
  {
   "cell_type": "markdown",
   "id": "99c95ee8",
   "metadata": {},
   "source": [
    "2. head(): This function is used to display the first n rows of a DataFrame object."
   ]
  },
  {
   "cell_type": "code",
   "execution_count": 3,
   "id": "0d2d4067",
   "metadata": {},
   "outputs": [
    {
     "name": "stdout",
     "output_type": "stream",
     "text": [
      "   name  age\n",
      "0  John   25\n",
      "1  Jane   30\n"
     ]
    }
   ],
   "source": [
    "df = pd.DataFrame({'name': ['John', 'Jane', 'Bob'], 'age': [25, 30, 35]})\n",
    "\n",
    "print(df.head(2))"
   ]
  },
  {
   "cell_type": "markdown",
   "id": "2dcf82f2",
   "metadata": {},
   "source": [
    "3. describe(): This function is used to generate descriptive statistics of a DataFrame object."
   ]
  },
  {
   "cell_type": "code",
   "execution_count": 4,
   "id": "31af84b7",
   "metadata": {},
   "outputs": [
    {
     "name": "stdout",
     "output_type": "stream",
     "text": [
      "        age\n",
      "count   3.0\n",
      "mean   30.0\n",
      "std     5.0\n",
      "min    25.0\n",
      "25%    27.5\n",
      "50%    30.0\n",
      "75%    32.5\n",
      "max    35.0\n"
     ]
    }
   ],
   "source": [
    "df = pd.DataFrame({'name': ['John', 'Jane', 'Bob'], 'age': [25, 30, 35]})\n",
    "\n",
    "print(df.describe())"
   ]
  },
  {
   "cell_type": "markdown",
   "id": "a1f99905",
   "metadata": {},
   "source": [
    "4. groupby(): This function is used to group rows of a DataFrame by one or more columns and apply an aggregate function to each group."
   ]
  },
  {
   "cell_type": "code",
   "execution_count": 5,
   "id": "5bf8b219",
   "metadata": {},
   "outputs": [
    {
     "name": "stdout",
     "output_type": "stream",
     "text": [
      "       age\n",
      "name      \n",
      "Bob   35.0\n",
      "Jane  30.0\n",
      "John  32.5\n"
     ]
    }
   ],
   "source": [
    "df = pd.DataFrame({'name': ['John', 'Jane', 'Bob', 'John'], 'age': [25, 30, 35, 40]})\n",
    "\n",
    "grouped = df.groupby('name').mean()\n",
    "\n",
    "print(grouped)"
   ]
  },
  {
   "cell_type": "markdown",
   "id": "248e94dc",
   "metadata": {},
   "source": [
    "5. merge(): This function is used to merge two or more DataFrame objects based on a common column."
   ]
  },
  {
   "cell_type": "code",
   "execution_count": 6,
   "id": "46f40349",
   "metadata": {},
   "outputs": [
    {
     "name": "stdout",
     "output_type": "stream",
     "text": [
      "   name  age  salary\n",
      "0  John   25   50000\n"
     ]
    }
   ],
   "source": [
    "df1 = pd.DataFrame({'name': ['John', 'Jane'], 'age': [25, 30]})\n",
    "df2 = pd.DataFrame({'name': ['John', 'Bob'], 'salary': [50000, 60000]})\n",
    "\n",
    "merged = pd.merge(df1, df2, on='name')\n",
    "\n",
    "print(merged)"
   ]
  },
  {
   "cell_type": "markdown",
   "id": "3c0a21b9",
   "metadata": {},
   "source": [
    "### Q2. Given a Pandas DataFrame df with columns 'A', 'B', and 'C', write a Python function to re-index the DataFrame with a new index that starts from 1 and increments by 2 for each row."
   ]
  },
  {
   "cell_type": "code",
   "execution_count": 9,
   "id": "881111fb",
   "metadata": {},
   "outputs": [
    {
     "name": "stdout",
     "output_type": "stream",
     "text": [
      "Original DataFrame:\n",
      "   a  b  c\n",
      "0  1  4  7\n",
      "1  2  5  8\n",
      "2  3  6  9\n",
      "\n",
      "Reindexed DataFrame:\n",
      "   a  b   d\n",
      "0  1  4 NaN\n",
      "1  2  5 NaN\n",
      "2  3  6 NaN\n"
     ]
    }
   ],
   "source": [
    "df = pd.DataFrame({'a': [1, 2, 3], 'b': [4, 5, 6], 'c': [7, 8, 9]})\n",
    "\n",
    "df_reindexed = df.reindex(index=['a', 'b', 'c'], columns=['a', 'b', 'd'])\n",
    "\n",
    "print('Original DataFrame:')\n",
    "print(df)\n",
    "\n",
    "print('\\nReindexed DataFrame:')\n",
    "print(df_reindexed)"
   ]
  },
  {
   "cell_type": "markdown",
   "id": "46dbb7e5",
   "metadata": {},
   "source": [
    "### Q3. You have a Pandas DataFrame df with a column named 'Values'. Write a Python function that iterates over the DataFrame and calculates the sum of the first three values in the 'Values' column. The function should print the sum to the console.\n",
    "\n",
    "For example, if the 'Values' column of df contains the values [10, 20, 30, 40, 50], your function should\n",
    "calculate and print the sum of the first three values, which is 60."
   ]
  },
  {
   "cell_type": "code",
   "execution_count": 26,
   "id": "05bbf27e",
   "metadata": {},
   "outputs": [
    {
     "name": "stdout",
     "output_type": "stream",
     "text": [
      "Sum of first three values: 60\n"
     ]
    }
   ],
   "source": [
    "def sum_of_values(df):\n",
    "    value_sum = 0\n",
    "    count = 0\n",
    "    for value in df['Values']:\n",
    "        if count < 3:\n",
    "            valueL_sum += value\n",
    "            count +=1\n",
    "        else:\n",
    "            break\n",
    "    return('The sum of first three value: ', value_sum)\n",
    "df = pd.DataFrame({'Values':[10, 20, 30, 40, 50]})\n",
    "sum_first_three(df)"
   ]
  },
  {
   "cell_type": "markdown",
   "id": "450c7c40",
   "metadata": {},
   "source": [
    "### Q4. Given a Pandas DataFrame df with a column 'Text', write a Python function to create a new column 'Word_Count' that contains the number of words in each row of the 'Text' column."
   ]
  },
  {
   "cell_type": "code",
   "execution_count": 28,
   "id": "4ffa7100",
   "metadata": {},
   "outputs": [
    {
     "name": "stdout",
     "output_type": "stream",
     "text": [
      "                  Text  Word_Count\n",
      "0   This is a sentence           4\n",
      "1  Here is another one           4\n",
      "2         And one more           3\n"
     ]
    }
   ],
   "source": [
    "import string\n",
    "\n",
    "def count_words(df):\n",
    "    df['Word_Count'] = df['Text'].apply(lambda x: len(str(x).split()))\n",
    "df = pd.DataFrame({'Text': ['This is a sentence', 'Here is another one', 'And one more']})\n",
    "count_words(df)\n",
    "print(df)\n"
   ]
  },
  {
   "cell_type": "markdown",
   "id": "c3649c93",
   "metadata": {},
   "source": [
    "### Q5. How are DataFrame.size() and DataFrame.shape() different?"
   ]
  },
  {
   "cell_type": "markdown",
   "id": "2d2fcb3a",
   "metadata": {},
   "source": [
    "Ans. DataFrame.size() and DataFrame.shape() are both methods in Pandas that can be used to get information about the dimensions of a DataFrame. However, they return different information.\n",
    "\n",
    "DataFrame.size() returns the total number of elements in the DataFrame, which is the product of the number of rows and columns. It does not provide information about the dimensions of the DataFrame.\n",
    "\n",
    "DataFrame.shape() returns a tuple containing the number of rows and columns in the DataFrame, respectively. It provides information about the dimensions of the DataFrame."
   ]
  },
  {
   "cell_type": "markdown",
   "id": "88385ac3",
   "metadata": {},
   "source": [
    "#### Q6. Which function of pandas do we use to read an excel file?"
   ]
  },
  {
   "cell_type": "code",
   "execution_count": null,
   "id": "0026ba0c",
   "metadata": {},
   "outputs": [],
   "source": [
    "df = pd.read_excel('example.xlsx')"
   ]
  },
  {
   "cell_type": "markdown",
   "id": "6ae7ec7c",
   "metadata": {},
   "source": [
    "### Q7. You have a Pandas DataFrame df that contains a column named 'Email' that contains email addresses in the format 'username@domain.com'. Write a Python function that creates a new column 'Username' in df that contains only the username part of each email address. \n",
    "\n",
    "### The username is the part of the email address that appears before the '@' symbol. For example, if the email address is 'john.doe@example.com', the 'Username' column should contain 'john.doe'. Your function should extract the username from each email address and store it in the new 'Username'column."
   ]
  },
  {
   "cell_type": "code",
   "execution_count": 29,
   "id": "91ac692f",
   "metadata": {},
   "outputs": [
    {
     "name": "stdout",
     "output_type": "stream",
     "text": [
      "                     Email     Username\n",
      "0     john.doe@example.com     john.doe\n",
      "1   jane.smith@example.com   jane.smith\n",
      "2  bob.johnson@example.com  bob.johnson\n"
     ]
    }
   ],
   "source": [
    "def extract_username(df):\n",
    "    username_domain = df['Email'].str.split('@', expand=True)\n",
    "    \n",
    "    df['Username'] = username_domain[0]\n",
    "    \n",
    "    return df\n",
    "\n",
    "data = {'Email': ['john.doe@example.com', 'jane.smith@example.com', 'bob.johnson@example.com']}\n",
    "df = pd.DataFrame(data)\n",
    "\n",
    "df = extract_username(df)\n",
    "\n",
    "print(df)"
   ]
  },
  {
   "cell_type": "markdown",
   "id": "aa10d7e2",
   "metadata": {},
   "source": [
    "### Q8. You have a Pandas DataFrame df with columns 'A', 'B', and 'C'. Write a Python function that selects all rows where the value in column 'A' is greater than 5 and the value in column 'B' is less than 10. The function should return a new DataFrame that contains only the selected rows. For example, if df contains the following values:\n",
    "\n",
    "A B C\n",
    "\n",
    "3 5 1\n",
    "\n",
    "8 2 7\n",
    "\n",
    "6 9 4\n",
    "\n",
    "2 3 5\n",
    "\n",
    "9 1 2"
   ]
  },
  {
   "cell_type": "code",
   "execution_count": 76,
   "id": "a389cae4",
   "metadata": {},
   "outputs": [
    {
     "name": "stdout",
     "output_type": "stream",
     "text": [
      "   A  B  C\n",
      "1  8  2  7\n",
      "2  6  9  4\n",
      "4  9  1  2\n"
     ]
    }
   ],
   "source": [
    "def add_values(df):\n",
    "    return df[(df['A'] > 5) & (df['B'] < 10)]\n",
    "data = {'A':[3, 8, 6, 2, 9], 'B':[5, 2, 9, 3, 1], 'C':[1, 7, 4, 5, 2]}\n",
    "df = pd.DataFrame(data)\n",
    "new_df = add_values(df)\n",
    "print(new_df)"
   ]
  },
  {
   "cell_type": "markdown",
   "id": "8a54b216",
   "metadata": {},
   "source": [
    "### Q9. Given a Pandas DataFrame df with a column 'Values', write a Python function to calculate the mean, median, and standard deviation of the values in the 'Values' column."
   ]
  },
  {
   "cell_type": "code",
   "execution_count": 80,
   "id": "0766b989",
   "metadata": {},
   "outputs": [
    {
     "name": "stdout",
     "output_type": "stream",
     "text": [
      "Mean: 6.0\n",
      "Median: 6.0\n",
      "Standard deviation: 3.1622776601683795\n"
     ]
    }
   ],
   "source": [
    "def calculate_stats(df, column_name):\n",
    "    mean = df[column_name].mean()\n",
    "    median = df[column_name].median()\n",
    "    std_dev = df[column_name].std()\n",
    "    \n",
    "    return mean, median, std_dev\n",
    "data = {'Values': [2, 4, 6, 8, 10]}\n",
    "df = pd.DataFrame(data)\n",
    "\n",
    "mean, median, std_dev = calculate_stats(df, 'Values')\n",
    "print('Mean:', mean)\n",
    "print('Median:', median)\n",
    "print('Standard deviation:', std_dev)"
   ]
  },
  {
   "cell_type": "markdown",
   "id": "9f30eba0",
   "metadata": {},
   "source": [
    "### Q10. Given a Pandas DataFrame df with a column 'Sales' and a column 'Date', write a Python function tocreate a new column 'MovingAverage' that contains the moving average of the sales for the past 7 days for each row in the DataFrame. The moving average should be calculated using a window of size 7 and should include the current day."
   ]
  },
  {
   "cell_type": "code",
   "execution_count": 3,
   "id": "8ca6d93b",
   "metadata": {},
   "outputs": [
    {
     "name": "stdout",
     "output_type": "stream",
     "text": [
      "   Sales       Date  MovingAverage\n",
      "0     10 2022-01-01           10.0\n",
      "1     20 2022-01-02           15.0\n",
      "2     30 2022-01-03           20.0\n",
      "3     40 2022-01-04           25.0\n",
      "4     50 2022-01-05           30.0\n",
      "5     60 2022-01-06           35.0\n",
      "6     70 2022-01-07           40.0\n",
      "7     80 2022-01-08           50.0\n",
      "8     90 2022-01-09           60.0\n",
      "9    100 2022-01-10           70.0\n"
     ]
    }
   ],
   "source": [
    "data = {'Sales': [10, 20, 30, 40, 50, 60, 70, 80, 90, 100],\n",
    "        'Date': pd.date_range(start='2022-01-01', periods=10)}\n",
    "df = pd.DataFrame(data)\n",
    "\n",
    "df['MovingAverage'] = df['Sales'].rolling(window=7, min_periods=1).mean()\n",
    "\n",
    "print(df)"
   ]
  },
  {
   "cell_type": "markdown",
   "id": "08e6c87f",
   "metadata": {},
   "source": [
    "### Q11. You have a Pandas DataFrame df with a column 'Date'. Write a Python function that creates a new column 'Weekday' in the DataFrame. The 'Weekday' column should contain the weekday name (e.g. Monday, Tuesday) corresponding to each date in the 'Date' column. For example, if df contains the following values:\n",
    "Date\n",
    "\n",
    "0 2023-01-01\n",
    "\n",
    "1 2023-01-02\n",
    "\n",
    "2 2023-01-03\n",
    "\n",
    "3 2023-01-04\n",
    "\n",
    "4 2023-01-05\n",
    "\n",
    "Your function should create the following DataFrame:\n",
    "\n",
    "Date Weekday\n",
    "\n",
    "0 2023-01-01 Sunday\n",
    "\n",
    "1 2023-01-02 Monday\n",
    "\n",
    "2 2023-01-03 Tuesday\n",
    "\n",
    "3 2023-01-04 Wednesday\n",
    "\n",
    "4 2023-01-05 Thursday\n",
    "\n",
    "The function should return the modified DataFrame."
   ]
  },
  {
   "cell_type": "code",
   "execution_count": 7,
   "id": "fd07a2c4",
   "metadata": {},
   "outputs": [
    {
     "data": {
      "text/html": [
       "<div>\n",
       "<style scoped>\n",
       "    .dataframe tbody tr th:only-of-type {\n",
       "        vertical-align: middle;\n",
       "    }\n",
       "\n",
       "    .dataframe tbody tr th {\n",
       "        vertical-align: top;\n",
       "    }\n",
       "\n",
       "    .dataframe thead th {\n",
       "        text-align: right;\n",
       "    }\n",
       "</style>\n",
       "<table border=\"1\" class=\"dataframe\">\n",
       "  <thead>\n",
       "    <tr style=\"text-align: right;\">\n",
       "      <th></th>\n",
       "      <th>Date</th>\n",
       "      <th>Weekday</th>\n",
       "    </tr>\n",
       "  </thead>\n",
       "  <tbody>\n",
       "    <tr>\n",
       "      <th>0</th>\n",
       "      <td>2023-01-01</td>\n",
       "      <td>Sunday</td>\n",
       "    </tr>\n",
       "    <tr>\n",
       "      <th>1</th>\n",
       "      <td>2023-01-02</td>\n",
       "      <td>Monday</td>\n",
       "    </tr>\n",
       "    <tr>\n",
       "      <th>2</th>\n",
       "      <td>2023-01-03</td>\n",
       "      <td>Tuesday</td>\n",
       "    </tr>\n",
       "    <tr>\n",
       "      <th>3</th>\n",
       "      <td>2023-01-04</td>\n",
       "      <td>Wednesday</td>\n",
       "    </tr>\n",
       "    <tr>\n",
       "      <th>4</th>\n",
       "      <td>2023-01-05</td>\n",
       "      <td>Thursday</td>\n",
       "    </tr>\n",
       "  </tbody>\n",
       "</table>\n",
       "</div>"
      ],
      "text/plain": [
       "        Date    Weekday\n",
       "0 2023-01-01     Sunday\n",
       "1 2023-01-02     Monday\n",
       "2 2023-01-03    Tuesday\n",
       "3 2023-01-04  Wednesday\n",
       "4 2023-01-05   Thursday"
      ]
     },
     "execution_count": 7,
     "metadata": {},
     "output_type": "execute_result"
    }
   ],
   "source": [
    "def add_weekday_column(df):\n",
    "    df['Weekday'] = df['Date'].dt.strftime('%A')\n",
    "    return df\n",
    "df = pd.DataFrame({'Date':['2023-01-01', '2023-01-02', ' 2023-01-03', '2023-01-04', '2023-01-05']})\n",
    "df['Date'] = pd.to_datetime(df['Date'])\n",
    "add_weekday_column(df)"
   ]
  },
  {
   "cell_type": "markdown",
   "id": "3aff1821",
   "metadata": {},
   "source": [
    "### Q12. Given a Pandas DataFrame df with a column 'Date' that contains timestamps, write a Python function to select all rows where the date is between '2023-01-01' and '2023-01-31'."
   ]
  },
  {
   "cell_type": "code",
   "execution_count": 14,
   "id": "d88fa37d",
   "metadata": {},
   "outputs": [
    {
     "name": "stdout",
     "output_type": "stream",
     "text": [
      "         Date  Values\n",
      "0  2023-01-01       1\n",
      "1  2023-01-02       2\n",
      "2  2023-01-03       3\n",
      "3  2023-01-04       4\n",
      "4  2023-01-05       5\n",
      "5  2023-01-06       6\n",
      "6  2023-01-07       7\n",
      "7  2023-01-08       8\n",
      "8  2023-01-09       9\n",
      "9  2023-01-10      10\n",
      "10 2023-01-11      11\n",
      "11 2023-01-12      12\n",
      "12 2023-01-13      13\n",
      "13 2023-01-14      14\n",
      "14 2023-01-15      15\n",
      "15 2023-01-16      16\n",
      "16 2023-01-17      17\n",
      "17 2023-01-18      18\n",
      "18 2023-01-19      19\n",
      "19 2023-01-20      20\n",
      "20 2023-01-21      21\n",
      "21 2023-01-22      22\n",
      "22 2023-01-23      23\n",
      "23 2023-01-24      24\n",
      "24 2023-01-25      25\n",
      "25 2023-01-26      26\n",
      "26 2023-01-27      27\n",
      "27 2023-01-28      28\n",
      "28 2023-01-29      29\n",
      "29 2023-01-30      30\n",
      "30 2023-01-31      31\n"
     ]
    }
   ],
   "source": [
    "data = {'Date': pd.date_range(start='2023-01-01', end='2023-01-31', freq='D'),\n",
    "        'Values': [1, 2, 3, 4, 5, 6, 7, 8, 9, 10, 11, 12, 13, 14, 15, 16, 17, 18, 19, 20, 21, 22, 23, 24, 25, 26, 27, 28, 29, 30, 31]}\n",
    "df = pd.DataFrame(data)\n",
    "\n",
    "def select_date_range(df):\n",
    "    start_date = '2023-01-01'\n",
    "    end_date = '2023-01-31'\n",
    "    mask = (df['Date'] >= start_date) & (df['Date'] <= end_date)\n",
    "    return df.loc[mask]\n",
    "    \n",
    "selected_data = select_date_range(df)\n",
    "print(selected_data)"
   ]
  },
  {
   "cell_type": "markdown",
   "id": "2cc71567",
   "metadata": {},
   "source": [
    "### Q13. To use the basic functions of pandas, what is the first and foremost necessary library that needs to be imported?\n",
    "\n",
    "Ans. The first and foremost necessary library that needs to be imported to use the basic functions of pandas is pandas itself. It can be imported using the following line of code:\n",
    "\n",
    "import pandas as pd"
   ]
  }
 ],
 "metadata": {
  "kernelspec": {
   "display_name": "Python 3 (ipykernel)",
   "language": "python",
   "name": "python3"
  },
  "language_info": {
   "codemirror_mode": {
    "name": "ipython",
    "version": 3
   },
   "file_extension": ".py",
   "mimetype": "text/x-python",
   "name": "python",
   "nbconvert_exporter": "python",
   "pygments_lexer": "ipython3",
   "version": "3.9.13"
  }
 },
 "nbformat": 4,
 "nbformat_minor": 5
}
