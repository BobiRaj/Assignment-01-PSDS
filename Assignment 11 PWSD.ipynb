{
 "cells": [
  {
   "cell_type": "markdown",
   "id": "6ca107cb",
   "metadata": {},
   "source": [
    "# Q1. Which function is used to open a file? What are the different modes of opening a file? Explain each mode of file opening.\n",
    "\n",
    "Ans. Python provides inbuilt functions for creating, writing, and reading files. For open a file we use open() function.\n",
    "\n",
    "Different modes of opening a file with explanation :-\n",
    "\n",
    "Read Only (‘r’):-  Open text file for reading. The handle is positioned at the beginning of the file. If the file does not exist, raises an I/O error. This is also the default mode in which the file is opened.\n",
    "\n",
    "Read and Write (‘r+’):-  Open the file for reading and writing. The handle is positioned at the beginning of the file. Raises I/O error if the file does not exist.\n",
    "\n",
    "Write Only (‘w’):-  Open the file for writing. For the existing files, the data is truncated and over-written. The handle is positioned at the beginning of the file. Creates the file if the file does not exist.\n",
    "\n",
    "Write and Read (‘w+’):-  Open the file for reading and writing. For existing files, data is truncated and over-written. The handle is positioned at the beginning of the file.\n",
    "\n",
    "Append Only (‘a’):-  Open the file for writing. The file is created if it does not exist. The handle is positioned at the end of the file. The data being written will be inserted at the end, after the existing data.\n",
    "\n",
    "Append and Read (‘a+’):-  Open the file for reading and writing. The file is created if it does not exist. The handle is positioned at the end of the file. The data being written will be inserted at the end, after the existing data.\n",
    "\n",
    "Read Only in Binary format(‘rb’):-  It lets the user open the file for reading in binary format.\n",
    "\n",
    "Read and Write in Binary Format(‘rb+’):-  It lets the user open the file for reading and writing in binary format.\n",
    "\n",
    "Write Only in Binary Format(‘wb’):-  It lets the user open the file for writing in binary format. When a file gets opened in this mode, there are two things that can happen mostly. A new file gets created if the file does not exist. The content within the file will get overwritten if the file exists and has some data stored in it. \n",
    "\n",
    "Write and Read in Binary Format(‘wb+’):-   It lets the user open the file for reading as well as writing in binary format. When a file gets opened in this mode, there are two things that can mostly happen. A new file gets created for writing and reading if the file does not exist. The content within the file will get overwritten if the file exists and has some data stored in it. \n",
    "\n",
    "Append only in Binary Format(‘ab’):-  It lets the user open the file for appending in binary format. A new file gets created if there is no file. The data will be inserted at the end if the file exists and has some data stored in it. \n",
    "\n",
    "Append and Read in Binary Format(‘ab+’):-  It lets the user open the file for appending and reading in binary format. A new file will be created for reading and appending if the file does not exist. We can read and append if the file exists and has some data stored in it. "
   ]
  },
  {
   "cell_type": "markdown",
   "id": "48024566",
   "metadata": {},
   "source": [
    "# Q2. Why close() function is used? Why is it important to close a file?\n",
    "\n",
    "Ans. The close() function closes an open file.\n",
    "\n",
    "You should always close your files, in some cases, due to buffering, changes made to a file may not show until you close the file"
   ]
  },
  {
   "cell_type": "markdown",
   "id": "807f0be7",
   "metadata": {},
   "source": [
    "# Q3. Write a python program to create a text file. Write ‘I want to become a Data Scientist’ in that file. Then close the file. Open this file and read the content of the file."
   ]
  },
  {
   "cell_type": "code",
   "execution_count": 10,
   "id": "c6d01f7c",
   "metadata": {},
   "outputs": [],
   "source": [
    "test_file = open('test.text', 'w')"
   ]
  },
  {
   "cell_type": "code",
   "execution_count": 11,
   "id": "034f2b7e",
   "metadata": {},
   "outputs": [
    {
     "data": {
      "text/plain": [
       "33"
      ]
     },
     "execution_count": 11,
     "metadata": {},
     "output_type": "execute_result"
    }
   ],
   "source": [
    "test_file.write('I want to become a Data Scientist')"
   ]
  },
  {
   "cell_type": "code",
   "execution_count": 12,
   "id": "0f784020",
   "metadata": {},
   "outputs": [],
   "source": [
    "test_file.close()"
   ]
  },
  {
   "cell_type": "code",
   "execution_count": 17,
   "id": "511f4288",
   "metadata": {},
   "outputs": [],
   "source": [
    "test_file = open('test.text', 'r')"
   ]
  },
  {
   "cell_type": "code",
   "execution_count": 18,
   "id": "d4773c8b",
   "metadata": {},
   "outputs": [
    {
     "data": {
      "text/plain": [
       "'I want to become a Data Scientist'"
      ]
     },
     "execution_count": 18,
     "metadata": {},
     "output_type": "execute_result"
    }
   ],
   "source": [
    "test_file.read()"
   ]
  },
  {
   "cell_type": "markdown",
   "id": "eb5f0ea5",
   "metadata": {},
   "source": [
    "# Q4. Explain the following with python code: read(), readline() and readlines().\n",
    "\n",
    "Ans. \n",
    "# Using read()\n",
    "\n",
    "Read Only (‘r’):- Open text file for reading. The handle is positioned at the beginning of the file. If the file does not exist, raises an I/O error. This is also the default mode in which the file is opened.\n",
    "\n",
    "test_file = open('test.text', 'r')\n",
    "\n",
    "Open function to open the file \"MyFile1.txt\" \n",
    "(same directory) in read mode\n",
    "\n",
    "# Using readlines()\n",
    "\n",
    "readlines() is used to read all the lines at a single go and then return them as each line a string element in a list. This function can be used for small files, as it reads the whole file content to the memory, then split it into separate lines.\n",
    "\n",
    "test_file = open('test.text', 'r')\n",
    "\n",
    "test_file.readlines()\n",
    "\n",
    "# Using readline()\n",
    "\n",
    "readline() function reads a line of the file and return it in the form of the string. It takes a parameter n, which specifies the maximum number of bytes that will be read. However, does not reads more than one line, even if n exceeds the length of the line. It will be efficient when reading a large file because instead of fetching all the data in one go, it fetches line by line. readline() returns the next line of the file which contains a newline character in the end. Also, if the end of the file is reached, it will return an empty string.\n",
    "\n",
    "test_file = open('test.text', 'r')\n",
    "\n",
    "test_file.readlines()"
   ]
  },
  {
   "cell_type": "markdown",
   "id": "994e80f9",
   "metadata": {},
   "source": [
    "# Q5. Explain why with statement is used with open(). What is the advantage of using with statement and open() together?"
   ]
  },
  {
   "cell_type": "markdown",
   "id": "a67fc804",
   "metadata": {},
   "source": [
    "Ans.  As we know, the open() function is generally used for file handling in Python. But it is a standard practice to use context managers like with keywords to handle files as it will automatically release files once its usage is complete\n",
    "\n",
    "# Advantage\n",
    "\n",
    "* While using open() we need to explicitly close an opened file instance, else other parts of code may face errors while opening the same file. In with open() the closing of the file is handled by the context manager."
   ]
  },
  {
   "cell_type": "markdown",
   "id": "bdfbd87c",
   "metadata": {},
   "source": [
    "# Q6. Explain the write() and writelines() functions. Give a suitable example.\n",
    "\n",
    "Ans. \n",
    "# write()\n",
    "\n",
    "Write Only (‘w’):- Open the file for writing. For the existing files, the data is truncated and over-written. The handle is positioned at the beginning of the file. Creates the file if the file does not exist.\n",
    "\n",
    "Example:-\n",
    "\n",
    "test_file = open('test.text', 'w')\n",
    "\n",
    "test_file.write('I want to become a Data Scientist')\n",
    "\n",
    "# writelines()\n",
    "\n",
    "the list of strings that is passed to the writelines() function is written into the opened file. Similar to the write() function, the writelines() function does not add a newline character(\\n) to the end of the string.\n",
    "\n",
    "Example:-\n",
    "\n",
    "test_file = open('test.text', 'w')\n",
    "\n",
    "lst = []\n",
    "\n",
    "for i in range(3):\n",
    "    \n",
    "    name = ['I want to become a Data Scientist']\n",
    "    \n",
    "    lst.append(name + '\\n')\n",
    "      \n",
    "test_file.writelines(lst)\n",
    "\n",
    "test_file.close()"
   ]
  }
 ],
 "metadata": {
  "kernelspec": {
   "display_name": "Python 3 (ipykernel)",
   "language": "python",
   "name": "python3"
  },
  "language_info": {
   "codemirror_mode": {
    "name": "ipython",
    "version": 3
   },
   "file_extension": ".py",
   "mimetype": "text/x-python",
   "name": "python",
   "nbconvert_exporter": "python",
   "pygments_lexer": "ipython3",
   "version": "3.9.13"
  }
 },
 "nbformat": 4,
 "nbformat_minor": 5
}
