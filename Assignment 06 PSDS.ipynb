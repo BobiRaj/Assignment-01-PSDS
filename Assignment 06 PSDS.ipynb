{
 "cells": [
  {
   "cell_type": "markdown",
   "id": "1dd243a9",
   "metadata": {},
   "source": [
    "Q1. Write a program to accept percentage from the user and display the grade according to the following criteria: \n",
    "Marks\tGrade\n",
    ">90\tA\n",
    ">80 and <= 90\tB\n",
    ">=60 and <= 80\tC\n",
    "below 60\tD"
   ]
  },
  {
   "cell_type": "code",
   "execution_count": 1,
   "id": "ec58dd2e",
   "metadata": {},
   "outputs": [
    {
     "name": "stdout",
     "output_type": "stream",
     "text": [
      "Marks obtain by student: 71\n",
      "Grade C\n"
     ]
    }
   ],
   "source": [
    "marks_obtain = int(input('Marks obtain by student: '))\n",
    "if 90<marks_obtain:\n",
    "    print('Grade A')\n",
    "elif marks_obtain > 80 and marks_obtain <= 90:\n",
    "    print('Grade B')\n",
    "elif marks_obtain <= 80 and marks_obtain >= 60:\n",
    "    print('Grade C')\n",
    "elif marks_obtain <= 60:\n",
    "    print('Grade B')"
   ]
  },
  {
   "cell_type": "markdown",
   "id": "13e7768b",
   "metadata": {},
   "source": [
    "Q2. Write a program to accept the cost price of a bike and display the road tax to be paid according to the following criteria: \n",
    "\n",
    "Tax\tCost Price (In Rs.)\n",
    "15%\t> 100000\n",
    "10%\t> 50000 and <= 100000\n",
    "5%\t<= 50000"
   ]
  },
  {
   "cell_type": "code",
   "execution_count": 3,
   "id": "430f7481",
   "metadata": {},
   "outputs": [
    {
     "name": "stdout",
     "output_type": "stream",
     "text": [
      "Amount: 78000\n",
      "10% Road tax to be paid:  5800.0\n"
     ]
    }
   ],
   "source": [
    "bike_cost = int(input('Amount: '))\n",
    "if 100000 < bike_cost:\n",
    "    print('15% Road tax to be paid: ',income*15/100)\n",
    "elif bike_cost > 50000 and bike_cost <= 100000:\n",
    "    print('10% Road tax to be paid: ',income*10/100)\n",
    "elif bike_cost <= 50000:\n",
    "    print('5% Road tax to be paid: ',income*5/100)\n",
    "    "
   ]
  },
  {
   "cell_type": "markdown",
   "id": "045c7698",
   "metadata": {},
   "source": [
    "Q3. Accept any city from the user and display monuments of that city.\n",
    "\n",
    "City\tMonument\n",
    "Delhi\tRed Fort\n",
    "Agra\tTaj Mahal\n",
    "Jaipur\tJal Mahal"
   ]
  },
  {
   "cell_type": "code",
   "execution_count": 5,
   "id": "1ef04536",
   "metadata": {},
   "outputs": [
    {
     "name": "stdout",
     "output_type": "stream",
     "text": [
      "Enter city name in small latter: delhi\n",
      "Red fort in Delhi\n"
     ]
    }
   ],
   "source": [
    "city = input('Enter city name in small latter: ')\n",
    "\n",
    "if 'delhi' == city:\n",
    "    print('Red fort in Delhi')\n",
    "elif city == 'agra':\n",
    "    print('Taj Mahal in Agra')\n",
    "elif city == 'jaipur':\n",
    "    print('Jal Mahal in Jaipur')"
   ]
  },
  {
   "cell_type": "markdown",
   "id": "03270a1f",
   "metadata": {},
   "source": [
    "Q4. Check how many times a given number can be divided by 3 before it is less than or equal to 10. \n"
   ]
  },
  {
   "cell_type": "code",
   "execution_count": 28,
   "id": "03049295",
   "metadata": {},
   "outputs": [
    {
     "name": "stdout",
     "output_type": "stream",
     "text": [
      "Enter the number: 7684\n",
      "7\n"
     ]
    }
   ],
   "source": [
    "number = int(input('Enter the number: '))\n",
    "count = 0\n",
    "num = number\n",
    "while num > 10:\n",
    "    num = num/3\n",
    "    count+=1\n",
    "print(count)"
   ]
  },
  {
   "cell_type": "markdown",
   "id": "0390ca4c",
   "metadata": {},
   "source": [
    "Q5. Why and When to Use while Loop in Python give a detailed description with example \n",
    "\n",
    "Ans. The while loop in Python is used when you want to repeatedly execute a block of code as long as a certain condition is met. The loop continues to execute as long as the condition is True.\n",
    "\n",
    "Here's an example of how to use a while loop in Python:"
   ]
  },
  {
   "cell_type": "code",
   "execution_count": 30,
   "id": "e87a90ee",
   "metadata": {},
   "outputs": [
    {
     "name": "stdout",
     "output_type": "stream",
     "text": [
      "2 x 1 = 2\n",
      "2 x 2 = 4\n",
      "2 x 3 = 6\n",
      "2 x 4 = 8\n",
      "2 x 5 = 10\n",
      "2 x 6 = 12\n",
      "2 x 7 = 14\n",
      "2 x 8 = 16\n",
      "2 x 9 = 18\n",
      "2 x 10 = 20\n"
     ]
    }
   ],
   "source": [
    "count = 1\n",
    "while count<=10:\n",
    "    print(2,'x',count,'=',count*2)\n",
    "    count+=1"
   ]
  },
  {
   "cell_type": "markdown",
   "id": "48d5e553",
   "metadata": {},
   "source": [
    "In this example, the while loop will continue to execute as long as count is less than 10. The value of count is incremented by 1 after each iteration, so eventually the condition count <= 10 will become False, causing the loop to stop.\n",
    "\n",
    "It's important to make sure that the condition in a while loop eventually becomes False, otherwise the loop will run forever (an infinite loop), which can cause your program to hang or crash."
   ]
  },
  {
   "cell_type": "markdown",
   "id": "ced45bca",
   "metadata": {},
   "source": [
    "Q6. Use nested while loop to print 3 different pattern. \n"
   ]
  },
  {
   "cell_type": "code",
   "execution_count": 66,
   "id": "4ececafe",
   "metadata": {},
   "outputs": [
    {
     "name": "stdout",
     "output_type": "stream",
     "text": [
      "\n",
      "* \n",
      "* * \n",
      "* * * \n",
      "* * * * \n",
      "* * * * * \n",
      "* * * * * * \n",
      "* * * * * * * \n"
     ]
    }
   ],
   "source": [
    "count = 0\n",
    "while count<8:\n",
    "    print('* '*count)\n",
    "    count+=1"
   ]
  },
  {
   "cell_type": "code",
   "execution_count": 70,
   "id": "76f2ec70",
   "metadata": {},
   "outputs": [
    {
     "name": "stdout",
     "output_type": "stream",
     "text": [
      "         *\n",
      "        **\n",
      "       ***\n",
      "      ****\n",
      "     *****\n",
      "    ******\n",
      "   *******\n",
      "  ********\n"
     ]
    }
   ],
   "source": [
    "count = 8\n",
    "i = 1\n",
    "while count>0:\n",
    "    print(' '*count,'*'*i)\n",
    "    count-=1\n",
    "    i+=1"
   ]
  },
  {
   "cell_type": "code",
   "execution_count": 65,
   "id": "0bd83fbf",
   "metadata": {},
   "outputs": [
    {
     "name": "stdout",
     "output_type": "stream",
     "text": [
      "        * \n",
      "       * * \n",
      "      * * * \n",
      "     * * * * \n",
      "    * * * * * \n",
      "   * * * * * * \n",
      "  * * * * * * * \n",
      " * * * * * * * * \n"
     ]
    }
   ],
   "source": [
    "count = 8\n",
    "i = 1\n",
    "while count>0:\n",
    "    print(' '*count+'* '*i)\n",
    "    count-=1\n",
    "    i+=1"
   ]
  },
  {
   "cell_type": "markdown",
   "id": "10fc1c57",
   "metadata": {},
   "source": [
    "Q7. Reverse a while loop to display numbers from 10 to 1 "
   ]
  },
  {
   "cell_type": "code",
   "execution_count": 72,
   "id": "46b25095",
   "metadata": {},
   "outputs": [
    {
     "name": "stdout",
     "output_type": "stream",
     "text": [
      "10\n",
      "9\n",
      "8\n",
      "7\n",
      "6\n",
      "5\n",
      "4\n",
      "3\n",
      "2\n",
      "1\n"
     ]
    }
   ],
   "source": [
    "i = 10\n",
    "while i >= 1:\n",
    "    print(i)\n",
    "    i-=1"
   ]
  },
  {
   "cell_type": "code",
   "execution_count": null,
   "id": "34ba522f",
   "metadata": {},
   "outputs": [],
   "source": []
  }
 ],
 "metadata": {
  "kernelspec": {
   "display_name": "Python 3 (ipykernel)",
   "language": "python",
   "name": "python3"
  },
  "language_info": {
   "codemirror_mode": {
    "name": "ipython",
    "version": 3
   },
   "file_extension": ".py",
   "mimetype": "text/x-python",
   "name": "python",
   "nbconvert_exporter": "python",
   "pygments_lexer": "ipython3",
   "version": "3.9.13"
  }
 },
 "nbformat": 4,
 "nbformat_minor": 5
}
