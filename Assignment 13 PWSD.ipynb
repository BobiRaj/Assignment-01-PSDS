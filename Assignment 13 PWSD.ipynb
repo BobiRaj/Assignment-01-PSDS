{
 "cells": [
  {
   "cell_type": "markdown",
   "id": "de3bf415",
   "metadata": {},
   "source": [
    "# Q1. What is multithreading in python? Why is it used? Name the module used to handle threads in python"
   ]
  },
  {
   "cell_type": "markdown",
   "id": "17675540",
   "metadata": {},
   "source": [
    "Ans.  A thread is an entity within a process that can be scheduled for execution. Also, it is the smallest unit of processing that can be performed in an OS (Operating System). In simple words, a thread is a sequence of such instructions within a program that can be executed independently of other code. For simplicity, you can assume that a thread is simply a subset of a process! A thread contains all this information in a Thread Control Block (TCB).\n",
    "\n",
    "* Thread Identifier: Unique id (TID) is assigned to every new thread\n",
    "* Stack pointer: Points to thread’s stack in the process. Stack contains the local variables under thread’s scope.\n",
    "* Program counter: a register which stores the address of the instruction currently being executed by thread.\n",
    "* Thread state: can be running, ready, waiting, start or done.\n",
    "* Thread’s register set: registers assigned to thread for computations.\n",
    "* Parent process Pointer: A pointer to the Process control block (PCB) of the process that the thread lives on.\n",
    "\n",
    "The module used to handle threads in Python is called \"threading\". It provides a simple and efficient way to create and manage threads within a Python program. The \"threading\" module includes a number of useful classes and functions for creating and controlling threads, as well as synchronization primitives such as locks, events, and semaphores, which are used to ensure that multiple threads do not access shared resources at the same time."
   ]
  },
  {
   "cell_type": "markdown",
   "id": "082acbbd",
   "metadata": {},
   "source": [
    "# Q2. Why threading module used? Write the use of the following functions\n",
    "# activeCount()\n",
    "# currentThread()\n",
    "# enumerate()"
   ]
  },
  {
   "cell_type": "markdown",
   "id": "f985ac62",
   "metadata": {},
   "source": [
    "Ans. Why use threading\n",
    "\n",
    "* Threads improve the performance of the processes through parallelism and concurrency.\n",
    "* Threads shares code, data, and other resources like files\n",
    "* In case we have limited resources and we want them to be shared, i.e, by synchronization, for better utilization of resources.\n",
    "* A Complex task can be optimized by dividing them into multiple independent subtasks\n",
    "\n",
    "# activeCount()\n",
    "\n",
    "returns the number of Threads currently alive.\n",
    "\n",
    "# currentThread()\n",
    "\n",
    "returns the current Thread, corresponding to the caller’s thread of control.\n",
    "\n",
    "# enumerate()\n",
    "\n",
    "returns a list of all Threads currently alive, including the main thread; terminated threads and threads that have not yet been started are excluded"
   ]
  },
  {
   "cell_type": "markdown",
   "id": "b902c9e4",
   "metadata": {},
   "source": [
    "# Q3. Explain the following functions\n",
    "* run()\n",
    "* start()\n",
    "* join()\n",
    "* isAlive()"
   ]
  },
  {
   "cell_type": "markdown",
   "id": "2f565f61",
   "metadata": {},
   "source": [
    "Ans. \n",
    "# run()\n",
    "In Python, we can create and run threads using the threading module. This module in python provides powerful and high-level support for threads.\n",
    "You can't directly do what you want. The background thread is running its run function, which just loops forever, so it can't possibly do anything else.\n",
    "You can, of course, call the class's methods on your own thread, but that presumably isn't what you want here.\n",
    "\n",
    "# start()\n",
    "When a thread instance is created, it doesn’t start executing until its start() method (which invokes the target function with the arguments you supplied) is invoked. Threads are executed in their own system-level thread (e.g., a POSIX thread or Windows threads) that is fully managed by the host operating system. Once started, threads run independently until the target function returns.\n",
    "\n",
    "# join()\n",
    "On invoking the join() method, the calling thread gets blocked until the thread object (on which the thread is called) gets terminated. The thread objects can terminate under any one of the following conditions:\n",
    "\n",
    "* Either normally.\n",
    "* Through an ill-handled exception.\n",
    "* Till the optional timeout occurs.\n",
    "\n",
    "Hence the join() method indicates wait till the thread terminates. We can also specify a timeout value to the join() method. In such a situation the calling thread may ask the thread to stop by sending a signal through an event object. The join() method can be called multiple times.\n",
    "\n",
    "# isAlive()\n",
    "Thread.is_alive () method is an inbuilt method of the Thread class of the threading module in Python. It uses a Thread object, and checks whether that thread is alive or not, ie, it is still running or not. This method returns True before the run () starts until just after the run () method is executed."
   ]
  },
  {
   "cell_type": "markdown",
   "id": "b0f99b7d",
   "metadata": {},
   "source": [
    "# Q4. Write a python program to create two threads. Thread one must print the list of squares and thread two must print the list of cubes"
   ]
  },
  {
   "cell_type": "code",
   "execution_count": 17,
   "id": "1c05c432",
   "metadata": {},
   "outputs": [],
   "source": [
    "import threading"
   ]
  },
  {
   "cell_type": "code",
   "execution_count": 25,
   "id": "b57e71b7",
   "metadata": {},
   "outputs": [
    {
     "name": "stdout",
     "output_type": "stream",
     "text": [
      "square 0\n",
      "square 1\n",
      "square 4\n",
      "square 9\n",
      "square 16\n",
      "square 25\n",
      "square 36\n",
      "square 49\n",
      "square 64\n",
      "square 81\n",
      "cube 0\n",
      "cube 1\n",
      "cube 8\n",
      "cube 27\n",
      "cube 64\n",
      "cube 125\n",
      "cube 216\n",
      "cube 343\n",
      "cube 512\n",
      "cube 729\n"
     ]
    }
   ],
   "source": [
    "try:\n",
    "    def list_of_squre(number):\n",
    "        print('square',number)\n",
    "    def list_of_cube(number):\n",
    "        print('cube',number)\n",
    "    squre = [threading.Thread(target=list_of_squre, args=(i**2,) )for i in range(10)]  \n",
    "    cube = [threading.Thread(target=list_of_cube, args=(i**3,) )for i in range(10)] \n",
    "    for i in squre:\n",
    "        i.start()\n",
    "    for i in cube:\n",
    "        i.start()\n",
    "except Exception as e:\n",
    "    print(e)"
   ]
  },
  {
   "cell_type": "markdown",
   "id": "125c17eb",
   "metadata": {},
   "source": [
    "# Q5. State advantages and disadvantages of multithreading.\n",
    "\n",
    "Ans. Multithreading is a technique in computer programming where multiple threads are used to execute multiple parts of a program simultaneously. Here are some advantages and disadvantages of using multithreading:\n",
    "\n",
    "# - Advantages:\n",
    "\n",
    "1. Improved performance: Multithreading allows different parts of a program to run in parallel, potentially improving the overall performance of the program by utilizing available resources more efficiently.\n",
    "2. Responsiveness: Multithreading can improve the responsiveness of an application by allowing it to perform multiple tasks at the same time, such as processing user input while performing background operations.\n",
    "3. Resource sharing: Multithreading allows multiple threads to share resources, such as memory and CPU time, which can be more efficient than creating separate processes for each task.\n",
    "4. Simplified programming: Multithreading can make it easier to write complex programs by breaking them into smaller, more manageable parts that can be executed concurrently.\n",
    "\n",
    "# - Disadvantages:\n",
    "\n",
    "1. Complexity: Multithreading can add complexity to a program, especially when dealing with shared resources, synchronization, and communication between threads. This can make the program more difficult to write and debug.\n",
    "2. Overhead: Multithreading introduces some overhead in terms of memory and CPU usage, as well as the time required to create and manage threads.\n",
    "3. Synchronization issues: Multithreading can introduce synchronization issues when multiple threads are accessing shared resources simultaneously, leading to race conditions and other concurrency-related bugs.\n",
    "4. Debugging: Debugging a multithreaded program can be more difficult than debugging a single-threaded program, as the interactions between threads can be complex and hard to predict.\n",
    "\n",
    "Overall, multithreading can be a powerful tool for improving the performance and responsiveness of a program, but it also comes with some challenges and potential downsides. Careful design and implementation are necessary to ensure that the benefits of multithreading outweigh the costs."
   ]
  },
  {
   "cell_type": "markdown",
   "id": "363f1b86",
   "metadata": {},
   "source": [
    "# Q6. Explain deadlocks and race conditions. \n",
    "\n",
    "Ans. Deadlocks and race conditions are two common problems that can occur in multithreaded programs.\n",
    "\n",
    "A deadlock occurs when two or more threads are waiting for each other to release resources that they need in order to proceed. In a deadlock, each thread is stuck waiting for a resource that is being held by another thread, creating a circular dependency that cannot be resolved. Deadlocks can cause a program to hang or become unresponsive, and can be difficult to detect and fix.\n",
    "\n",
    "A race condition occurs when two or more threads access a shared resource or data structure concurrently, and the result of the program depends on the order in which the threads execute. If the threads are not synchronized properly, the program may produce incorrect results or crash. Race conditions can be difficult to detect and reproduce, as they depend on the timing and interleaving of the threads.\n",
    "\n",
    "To avoid deadlocks, it is important to carefully manage shared resources and ensure that threads do not hold onto resources for too long. One common technique for avoiding deadlocks is to use a lock hierarchy, where resources are acquired in a specific order to prevent circular dependencies. Additionally, using timeouts on locks can help prevent deadlocks by ensuring that threads do not wait indefinitely for a resource to become available.\n",
    "\n",
    "To avoid race conditions, it is important to properly synchronize access to shared resources. This can be done using locks or other synchronization primitives, such as semaphores or monitors. In addition, using atomic operations or thread-safe data structures can help reduce the risk of race conditions by ensuring that shared data is accessed in a consistent and predictable way.\n",
    "\n",
    "Overall, avoiding deadlocks and race conditions requires careful design and implementation of multithreaded programs, as well as testing and debugging to ensure that the program is correct and robust."
   ]
  },
  {
   "cell_type": "code",
   "execution_count": null,
   "id": "0bc228f8",
   "metadata": {},
   "outputs": [],
   "source": []
  }
 ],
 "metadata": {
  "kernelspec": {
   "display_name": "Python 3 (ipykernel)",
   "language": "python",
   "name": "python3"
  },
  "language_info": {
   "codemirror_mode": {
    "name": "ipython",
    "version": 3
   },
   "file_extension": ".py",
   "mimetype": "text/x-python",
   "name": "python",
   "nbconvert_exporter": "python",
   "pygments_lexer": "ipython3",
   "version": "3.9.13"
  }
 },
 "nbformat": 4,
 "nbformat_minor": 5
}
