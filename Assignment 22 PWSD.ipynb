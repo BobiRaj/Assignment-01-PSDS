{
 "cells": [
  {
   "cell_type": "markdown",
   "id": "88bc1a88",
   "metadata": {},
   "source": [
    "### Q1. Create a Pandas Series that contains the following data: 4, 8, 15, 16, 23, and 42. Then, print the series."
   ]
  },
  {
   "cell_type": "code",
   "execution_count": 15,
   "id": "6f8bd486",
   "metadata": {},
   "outputs": [],
   "source": [
    "import pandas as pd"
   ]
  },
  {
   "cell_type": "code",
   "execution_count": 28,
   "id": "e7a9d62e",
   "metadata": {},
   "outputs": [
    {
     "name": "stdout",
     "output_type": "stream",
     "text": [
      "0     4\n",
      "1     8\n",
      "2    15\n",
      "3    16\n",
      "4    23\n",
      "5    42\n",
      "dtype: int64\n"
     ]
    }
   ],
   "source": [
    "data = [4, 8, 15, 16, 23, 42]\n",
    "\n",
    "series = pd.Series(data)\n",
    "print(series)"
   ]
  },
  {
   "cell_type": "markdown",
   "id": "4e4db27e",
   "metadata": {},
   "source": [
    "### Q2. Create a variable of list type containing 10 elements in it, and apply pandas.Series function on the variable print it."
   ]
  },
  {
   "cell_type": "code",
   "execution_count": 33,
   "id": "010522f6",
   "metadata": {},
   "outputs": [
    {
     "name": "stdout",
     "output_type": "stream",
     "text": [
      "0     2\n",
      "1     4\n",
      "2     6\n",
      "3     8\n",
      "4    10\n",
      "5    12\n",
      "6    14\n",
      "7    16\n",
      "8    18\n",
      "9    20\n",
      "dtype: int64\n"
     ]
    }
   ],
   "source": [
    "my_list = [2, 4, 6, 8, 10, 12, 14, 16, 18, 20]\n",
    "\n",
    "series = pd.Series(my_list)\n",
    "print(series)"
   ]
  },
  {
   "cell_type": "code",
   "execution_count": 38,
   "id": "664f19c9",
   "metadata": {},
   "outputs": [
    {
     "name": "stdout",
     "output_type": "stream",
     "text": [
      "     Name  Age Gender\n",
      "0   Alice   25      F\n",
      "1     Bob   30      M\n",
      "2  Claire   27      F\n"
     ]
    }
   ],
   "source": [
    "data = {\n",
    "    'Name':['Alice', 'Bob', 'Claire'],\n",
    "    'Age':[25, 30, 27],\n",
    "    'Gender':['F','M','F']\n",
    "}\n",
    "\n",
    "df = pd.DataFrame(data)\n",
    "print(df)"
   ]
  },
  {
   "cell_type": "markdown",
   "id": "aa1243bb",
   "metadata": {},
   "source": [
    "### Q4. What is ‘DataFrame’ in pandas and how is it different from pandas.series? Explain with an example.\n",
    "\n",
    "Ans. In Pandas, a DataFrame is a two-dimensional table-like data structure, where each column can have a different data type, such as integer, float, string, etc. It is similar to a spreadsheet or SQL table, where the rows represent the observations, and the columns represent the variables. A DataFrame can be thought of as a collection of Pandas Series objects that share the same index.\n",
    "\n",
    "A Pandas Series, on the other hand, is a one-dimensional labeled array that can hold data of any type. It can be created from a list, a tuple, a NumPy ndarray, or a dictionary."
   ]
  },
  {
   "cell_type": "markdown",
   "id": "c628434a",
   "metadata": {},
   "source": [
    "### Q5. What are some common functions you can use to manipulate data in a Pandas DataFrame? Can you give an example of when you might use one of these functions?\n",
    "\n",
    "Ans. There are many functions and methods available in Pandas for manipulating data in a DataFrame. Some of the commonly used ones are:\n",
    "\n",
    "1. `head()` and `tail()`: These functions are used to display the first or last n rows of the DataFrame, respectively. They are useful for quickly inspecting the structure and contents of a DataFrame.\n",
    "\n",
    "2. `info()`: This function is used to get a concise summary of the DataFrame, including the column names, data types, and non-null values. It is useful for checking the data types and identifying missing values in the DataFrame.\n",
    "\n",
    "3. `describe()`: This function is used to generate various summary statistics of the DataFrame, such as count, mean, standard deviation, minimum, maximum, and quartile values. It is useful for getting a quick overview of the distribution of numerical variables in the DataFrame.\n",
    "\n",
    "4. `drop()`: This method is used to remove one or more rows or columns from the DataFrame based on the labels or positions. It is useful for cleaning or filtering the data and removing unwanted variables.\n",
    "\n",
    "5. `groupby()`: This method is used to group the DataFrame by one or more columns and apply a function to each group. It is useful for aggregating, summarizing, or transforming the data based on categorical variables.\n",
    "\n",
    "Here is an example of how you might use the `groupby()` function to summarize data in a DataFrame:"
   ]
  },
  {
   "cell_type": "code",
   "execution_count": 39,
   "id": "6ec8c398",
   "metadata": {},
   "outputs": [
    {
     "name": "stdout",
     "output_type": "stream",
     "text": [
      "         Age   Salary\n",
      "Gender               \n",
      "Female  35.0  70000.0\n",
      "Male    35.0  70000.0\n"
     ]
    }
   ],
   "source": [
    "data = {'Name': ['Alice', 'Bob', 'Charlie', 'David', 'Emily'],\n",
    "        'Gender': ['Female', 'Male', 'Male', 'Male', 'Female'],\n",
    "        'Age': [25, 30, 35, 40, 45],\n",
    "        'Salary': [50000, 60000, 70000, 80000, 90000]}\n",
    "df = pd.DataFrame(data)\n",
    "\n",
    "summary = df.groupby('Gender').mean()\n",
    "\n",
    "print(summary)\n"
   ]
  },
  {
   "cell_type": "markdown",
   "id": "24899d03",
   "metadata": {},
   "source": [
    "In this example, we used the `groupby()` function to group the DataFrame by Gender and calculate the mean of Age and Salary for each group. This summary table can be useful for analyzing the average age and salary of male and female employees in the company."
   ]
  },
  {
   "cell_type": "markdown",
   "id": "208b93d5",
   "metadata": {},
   "source": [
    "### Q6. Which of the following is mutable in nature Series, DataFrame, Panel?\n",
    "\n",
    "Ans. n Pandas, both Series and DataFrame are mutable in nature.\n",
    "\n",
    "A Series can be modified by assigning new values to its elements or by using methods such as append(), drop(), replace(), etc. Similarly, a DataFrame can be modified by adding or removing rows or columns, or by modifying the values in existing cells using methods such as loc[], iloc[], drop(), replace(), etc.\n",
    "\n",
    "On the other hand, a Panel is an advanced data structure in Pandas that is three-dimensional and can store data in a tabular format. However, it is considered deprecated in recent versions of Pandas and has been replaced by the more general-purpose MultiIndex data structure."
   ]
  }
 ],
 "metadata": {
  "kernelspec": {
   "display_name": "Python 3 (ipykernel)",
   "language": "python",
   "name": "python3"
  },
  "language_info": {
   "codemirror_mode": {
    "name": "ipython",
    "version": 3
   },
   "file_extension": ".py",
   "mimetype": "text/x-python",
   "name": "python",
   "nbconvert_exporter": "python",
   "pygments_lexer": "ipython3",
   "version": "3.9.13"
  }
 },
 "nbformat": 4,
 "nbformat_minor": 5
}
