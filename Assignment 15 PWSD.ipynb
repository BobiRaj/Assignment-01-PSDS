{
 "cells": [
  {
   "cell_type": "markdown",
   "id": "cb9736cb",
   "metadata": {},
   "source": [
    "# Q1. What is a database? Differentiate between SQL and NoSQL databases.\n",
    "\n",
    "Ans. The Database is an essential part of our life. As we encounter several activities that involve our interaction with databases, for example in the bank, in the railway station, in school, in a grocery store, etc. These are the instances where we need to store a large amount of data in one place and fetch these data easily.\n",
    "\n",
    "# Diffrence between SQL or NoSQL\n",
    "\n",
    "SQL:-\n",
    "\n",
    "1. RELATIONAL DATABASE MANAGEMENT SYSTEM (RDBMS)\n",
    "2. These databases have fixed or static or predefined schema\n",
    "3. These databases are not suited for hierarchical data storage.\n",
    "4. These databases are best suited for complex queries\n",
    "5. Vertically Scalable\n",
    "6. Follows ACID property\n",
    "7. Examples: MySQL, PostgreSQL, Oracle, MS-SQL Server, etc\n",
    "\n",
    "NoSQl:-\n",
    "\n",
    "1. Non-relational or distributed database system.\n",
    "2. They have dynamic schema\n",
    "3. These databases are best suited for hierarchical data storage.\n",
    "4. These databases are not so good for complex queries\n",
    "5. Horizontally scalable\n",
    "6. Follows CAP(consistency, availability, partition tolerance)\n",
    "7. Examples: MongoDB, GraphQL, HBase, Neo4j, Cassandra, etc"
   ]
  },
  {
   "cell_type": "markdown",
   "id": "1782a9db",
   "metadata": {},
   "source": [
    "# Q2. What is DDL? Explain why CREATE, DROP, ALTER, and TRUNCATE are used with an example.\n",
    "\n",
    "Ans. DDL or Data Definition Language actually consists of the SQL commands that can be used to define the database schema. It simply deals with descriptions of the database schema and is used to create and modify the structure of database objects in the database. DDL is a set of SQL commands used to create, modify, and delete database structures but not data. These commands are normally not used by a general user, who should be accessing the database via an application.\n",
    "\n",
    "* CREATE:- This command is used to create the database or its objects (like table, index, function, views, store procedure, and triggers)."
   ]
  },
  {
   "cell_type": "code",
   "execution_count": null,
   "id": "46fd8def",
   "metadata": {},
   "outputs": [],
   "source": [
    "CREATE TABLE employees (\n",
    "    id INT PRIMARY KEY,\n",
    "    name VARCHAR(50),\n",
    "    salary DECIMAL(10,2)\n",
    ")"
   ]
  },
  {
   "cell_type": "markdown",
   "id": "543bc1ef",
   "metadata": {},
   "source": [
    "* DROP: This command is used to delete objects from the database."
   ]
  },
  {
   "cell_type": "code",
   "execution_count": null,
   "id": "7cc81d05",
   "metadata": {},
   "outputs": [],
   "source": [
    "DROP TABLE employees;"
   ]
  },
  {
   "cell_type": "markdown",
   "id": "5af6a54e",
   "metadata": {},
   "source": [
    "* ALTER: This is used to alter the structure of the database."
   ]
  },
  {
   "cell_type": "code",
   "execution_count": null,
   "id": "796b2eb6",
   "metadata": {},
   "outputs": [],
   "source": [
    "ALTER TABLE employees ADD COLUMN age INT;"
   ]
  },
  {
   "cell_type": "markdown",
   "id": "809bb32a",
   "metadata": {},
   "source": [
    "* TRUNCATE: This is used to remove all records from a table, including all spaces allocated for the records are removed."
   ]
  },
  {
   "cell_type": "code",
   "execution_count": null,
   "id": "fcaf9ccd",
   "metadata": {},
   "outputs": [],
   "source": [
    "TRUNCATE TABLE employees;"
   ]
  },
  {
   "cell_type": "markdown",
   "id": "e09adf1b",
   "metadata": {},
   "source": [
    "# Q3. What is DML? Explain INSERT, UPDATE, and DELETE with an example.\n",
    "\n",
    "Ans. The SQL commands that deals with the manipulation of data present in the database belong to DML or Data Manipulation Language and this includes most of the SQL statements. It is the component of the SQL statement that controls access to data and to the database. Basically, DCL statements are grouped with DML statements.\n",
    "\n",
    "\n",
    "\n",
    "* DELETE : It is used to delete records from a database table."
   ]
  },
  {
   "cell_type": "markdown",
   "id": "0de09cbd",
   "metadata": {},
   "source": [
    "* INSERT : It is used to insert data into a table."
   ]
  },
  {
   "cell_type": "code",
   "execution_count": null,
   "id": "43c3e2c6",
   "metadata": {},
   "outputs": [],
   "source": [
    "INSERT INTO employees (id, name, salary) VALUES (123, 'John Doe', 50000.00);"
   ]
  },
  {
   "cell_type": "markdown",
   "id": "7a660ccc",
   "metadata": {},
   "source": [
    "* UPDATE: It is used to update existing data within a table."
   ]
  },
  {
   "cell_type": "code",
   "execution_count": null,
   "id": "c9487b18",
   "metadata": {},
   "outputs": [],
   "source": [
    "UPDATE employees SET salary = 60000.00 WHERE id = 123;"
   ]
  },
  {
   "cell_type": "markdown",
   "id": "03d3b50c",
   "metadata": {},
   "source": [
    "* DELETE : It is used to delete records from a database table."
   ]
  },
  {
   "cell_type": "code",
   "execution_count": null,
   "id": "6dd9e6bf",
   "metadata": {},
   "outputs": [],
   "source": [
    "DELETE FROM employees WHERE id = 123;"
   ]
  },
  {
   "cell_type": "markdown",
   "id": "8499fa2b",
   "metadata": {},
   "source": [
    "# Q4. What is DQL? Explain SELECT with an example.\n",
    "\n",
    "Ans. DQL statements are used for performing queries on the data within schema objects. The purpose of the DQL Command is to get some schema relation based on the query passed to it. We can define DQL as follows it is a component of SQL statement that allows getting data from the database and imposing order upon it. It includes the SELECT statement. This command allows getting the data out of the database to perform operations with it. When a SELECT is fired against a table or tables the result is compiled into a further temporary table, which is displayed or perhaps received by the program i.e. a front-end.\n",
    "\n",
    "* SELECT: It is used to retrieve data from the database."
   ]
  },
  {
   "cell_type": "markdown",
   "id": "a36ae1da",
   "metadata": {},
   "source": [
    "# Q5. Explain Primary Key and Foreign Key.\n",
    "\n",
    "Ans. Primary Key: A primary key is used to ensure that data in the specific column is unique. A column cannot have NULL values. It is either an existing table column or a column that is specifically generated by the database according to a defined sequence. \n",
    "\n",
    "Example: Refer the figure – \n",
    "STUD_NO, as well as STUD_PHONE both, are candidate keys for relation STUDENT but STUD_NO can be chosen as the primary key (only one out of many candidate keys). \n",
    "\n",
    "Foreign Key: \n",
    "A foreign key is a column or group of columns in a relational database table that provides a link between data in two tables. It is a column (or columns) that references a column (most often the primary key) of another table. \n",
    "\n",
    "Example: Refer the figure – \n",
    "STUD_NO in STUDENT_COURSE is a foreign key to STUD_NO in STUDENT relation. "
   ]
  },
  {
   "cell_type": "markdown",
   "id": "f5d755dd",
   "metadata": {},
   "source": [
    "# Q6. Write a python code to connect MySQL to python. Explain the cursor() and execute() method."
   ]
  },
  {
   "cell_type": "markdown",
   "id": "f34c2cb3",
   "metadata": {},
   "source": [
    "Ans.\n",
    "import mysql.connector\n",
    "\n",
    "mydb = mysql.connector.connect(\n",
    "\n",
    "  host=\"localhost\",\n",
    "  \n",
    "  user=\"abc\",\n",
    "  \n",
    "  password=\"password\"\n",
    "\n",
    ")\n",
    "\n",
    "mycursor = mydb.cursor()\n",
    "\n",
    "mycursor.execute(\"CREATE DATABASE if not exists test2\")\n",
    "\n",
    "mydb.close()"
   ]
  },
  {
   "cell_type": "markdown",
   "id": "a8ee59e9",
   "metadata": {},
   "source": [
    "In the code above, we first import the mysql.connector package to use its functions for connecting to MySQL.\n",
    "\n",
    "We then establish a connection to the MySQL server by passing the required connection parameters, including the username, password, host, and database. This creates a connection object called cnx.\n",
    "\n",
    "Next, we create a cursor object by calling the cursor() method on the connection object. The cursor object is used to execute SQL queries on the database.\n",
    "\n",
    "We execute a SELECT query by calling the execute() method on the cursor object, passing in the query as a string. The execute() method executes the query and returns the results, which we can fetch using the fetchall() method.\n",
    "\n",
    "Finally, we close the cursor and connection objects using the close() method.\n",
    "\n",
    "The cursor() method creates a cursor object that allows us to execute SQL queries on the database. The execute() method is called on the cursor object to execute an SQL query, and it takes the SQL query as a parameter. The execute() method returns the results of the query, which can be fetched using the fetchall() method."
   ]
  },
  {
   "cell_type": "markdown",
   "id": "d35c8b23",
   "metadata": {},
   "source": [
    "# Q7. Give the order of execution of SQL clauses in an SQL query.\n",
    "\n",
    "Ans. The order of execution of SQL clauses in an SQL query is as follows:\n",
    "\n",
    "1. FROM: This clause specifies the table or tables from which the data will be selected.\n",
    "\n",
    "2. WHERE: This clause filters the data based on a specified condition or set of conditions.\n",
    "\n",
    "3. GROUP BY: This clause groups the data based on a specified column or set of columns.\n",
    "\n",
    "4. HAVING: This clause filters the grouped data based on a specified condition or set of conditions.\n",
    "\n",
    "5. SELECT: This clause selects the columns to be displayed in the output.\n",
    "\n",
    "6. DISTINCT: This clause eliminates duplicate rows from the output.\n",
    "\n",
    "7. ORDER BY: This clause sorts the output based on a specified column or set of columns.\n",
    "\n",
    "8. LIMIT/OFFSET: These clauses limit the number of rows returned by the query or specify the starting point for returning rows.\n",
    "\n",
    "Note that not all of these clauses are required in every SQL query, and the order of execution may vary depending on the specific query. However, this is the general order of execution for a standard SQL query.\n"
   ]
  },
  {
   "cell_type": "code",
   "execution_count": null,
   "id": "a258acd8",
   "metadata": {},
   "outputs": [],
   "source": []
  }
 ],
 "metadata": {
  "kernelspec": {
   "display_name": "Python 3 (ipykernel)",
   "language": "python",
   "name": "python3"
  },
  "language_info": {
   "codemirror_mode": {
    "name": "ipython",
    "version": 3
   },
   "file_extension": ".py",
   "mimetype": "text/x-python",
   "name": "python",
   "nbconvert_exporter": "python",
   "pygments_lexer": "ipython3",
   "version": "3.9.13"
  }
 },
 "nbformat": 4,
 "nbformat_minor": 5
}
