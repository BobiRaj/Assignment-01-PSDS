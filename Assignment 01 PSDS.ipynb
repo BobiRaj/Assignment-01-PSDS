{
 "cells": [
  {
   "cell_type": "markdown",
   "id": "bb86dfe6",
   "metadata": {},
   "source": [
    "Q1. Explain with an example each when to use a for loop and a while loop."
   ]
  },
  {
   "cell_type": "code",
   "execution_count": 26,
   "id": "16235387",
   "metadata": {},
   "outputs": [
    {
     "name": "stdout",
     "output_type": "stream",
     "text": [
      "1\n",
      "2\n",
      "3\n",
      "4\n",
      "5\n",
      "\n",
      "while loop:\n",
      "0\n",
      "1\n",
      "2\n",
      "3\n"
     ]
    }
   ],
   "source": [
    "#for loop\n",
    "#we use for loop when we need to iteration in any array\n",
    "#example\n",
    "a = [1, 2, 3, 4, 5]\n",
    "for i in a:\n",
    "    print(i)\n",
    "\n",
    "#we use while loop when we need to satisfied a candition and brak when it is satisfied.\n",
    "print('\\nwhile loop:')\n",
    "i=0\n",
    "while i < 4:\n",
    "    print(i)\n",
    "    i+=1"
   ]
  },
  {
   "cell_type": "markdown",
   "id": "5730e7f6",
   "metadata": {},
   "source": [
    "# Q2. Write a python program to print the sum and product of the first 10 natural numbers using for\n",
    "and while loop."
   ]
  },
  {
   "cell_type": "code",
   "execution_count": 13,
   "id": "4f3e5ccd",
   "metadata": {},
   "outputs": [
    {
     "name": "stdout",
     "output_type": "stream",
     "text": [
      "55\n",
      "3628800\n"
     ]
    }
   ],
   "source": [
    "a = 0\n",
    "b = 1\n",
    "for i in range(1,11):\n",
    "    a = a+i\n",
    "for j in range(1,11):    \n",
    "    b = b*j\n",
    "print(a)\n",
    "print(b)"
   ]
  },
  {
   "cell_type": "code",
   "execution_count": 15,
   "id": "911c4522",
   "metadata": {},
   "outputs": [
    {
     "name": "stdout",
     "output_type": "stream",
     "text": [
      "55 3628800\n"
     ]
    }
   ],
   "source": [
    "sm = 0\n",
    "ftr = 1\n",
    "i = 10\n",
    "while i>0:\n",
    "    sm = sm+i\n",
    "    ftr = ftr*i\n",
    "    i-=1\n",
    "    \n",
    "print(sm,ftr)"
   ]
  },
  {
   "cell_type": "markdown",
   "id": "66458cf4",
   "metadata": {},
   "source": [
    "Q2. Why *args and **kwargs is used in some functions? Create a function each for *args and **kwargs\n",
    "to demonstrate their use."
   ]
  },
  {
   "cell_type": "code",
   "execution_count": 6,
   "id": "86d0dada",
   "metadata": {},
   "outputs": [
    {
     "name": "stdout",
     "output_type": "stream",
     "text": [
      "Hello\n",
      "this\n",
      "is\n",
      "my\n",
      "first\n",
      "definde\n",
      "function\n",
      "var1 hello\n",
      "var2 123\n",
      "var3 9.45\n"
     ]
    }
   ],
   "source": [
    "# in *args we can use multiple values in single definde variable \n",
    "def new_fun(*my_value):\n",
    "    for i in my_value:\n",
    "        print(i)\n",
    "new_fun('Hello', 'this', 'is', 'my', 'first', 'definde', 'function')\n",
    "\n",
    "# in **kargs we can use multiple variable values in single definde variable \n",
    "\n",
    "def Multivalue(**my_value):\n",
    "    for i,j in my_value.items():\n",
    "        print(i,j)\n",
    "Multivalue(var1 = 'hello', var2 = 123, var3 = 9.45)"
   ]
  },
  {
   "cell_type": "markdown",
   "id": "76f356c9",
   "metadata": {},
   "source": [
    "Q3. Create a python program to compute the electricity bill for a household.\n",
    "The per-unit charges in rupees are as follows: For the first 100 units, the user will be charged Rs. 4.5 per\n",
    "unit, for the next 100 units, the user will be charged Rs. 6 per unit, and for the next 100 units, the user will\n",
    "be charged Rs. 10 per unit, After 300 units and above the user will be charged Rs. 20 per unit.\n",
    "You are required to take the units of electricity consumed in a month from the user as input.\n",
    "Your program must pass this test case: when the unit of electricity consumed by the user in a month is\n",
    "310, the total electricity bill should be 2250."
   ]
  },
  {
   "cell_type": "code",
   "execution_count": 15,
   "id": "e919c372",
   "metadata": {},
   "outputs": [
    {
     "name": "stdout",
     "output_type": "stream",
     "text": [
      "Enter the bill amount: 310\n",
      "this month total bill:  6200\n"
     ]
    }
   ],
   "source": [
    "def bill_charge(unit):\n",
    "    if unit <= 100:\n",
    "        print('this month total bill: ', unit*4.5)\n",
    "    elif unit <= 200:\n",
    "        print('this month total bill: ', unit*6)\n",
    "    elif unit <= 300:\n",
    "        print('this month total bill: ', unit*10)\n",
    "    else:\n",
    "        print('this month total bill: ', unit*20)\n",
    "bill_unit = int(input('Enter the bill amount: '))\n",
    "bill_charge(bill_unit)"
   ]
  },
  {
   "cell_type": "markdown",
   "id": "47ea2473",
   "metadata": {},
   "source": [
    "Q4. Create a list of numbers from 1 to 100. Use for loop and while loop to calculate the cube of each\n",
    "number and if the cube of that number is divisible by 4 or 5 then append that number in a list and print\n",
    "that list."
   ]
  },
  {
   "cell_type": "code",
   "execution_count": 38,
   "id": "d325304a",
   "metadata": {},
   "outputs": [
    {
     "name": "stdout",
     "output_type": "stream",
     "text": [
      "[0, 2, 4, 5, 6, 8, 10, 12, 14, 15, 16, 18, 20, 22, 24, 25, 26, 28, 30, 32, 34, 35, 36, 38, 40, 42, 44, 45, 46, 48, 50, 52, 54, 55, 56, 58, 60, 62, 64, 65, 66, 68, 70, 72, 74, 75, 76, 78, 80, 82, 84, 85, 86, 88, 90, 92, 94, 95, 96, 98]\n",
      "\n",
      " [0, 2, 4, 5, 6, 8, 10, 12, 14, 15, 16, 18, 20, 22, 24, 25, 26, 28, 30, 32, 34, 35, 36, 38, 40, 42, 44, 45, 46, 48, 50, 52, 54, 55, 56, 58, 60, 62, 64, 65, 66, 68, 70, 72, 74, 75, 76, 78, 80, 82, 84, 85, 86, 88, 90, 92, 94, 95, 96, 98, 100]\n"
     ]
    }
   ],
   "source": [
    "Number_list = []\n",
    "for i in range(100):\n",
    "    cube = i**3\n",
    "    if cube%4==0 or cube%5==0:\n",
    "        Number_list.append(i)\n",
    "print(Number_list)\n",
    "\n",
    "while i<=100:\n",
    "    cube = i**3\n",
    "    if cube%4==0 or cube%5==0:\n",
    "        Number_list.append(i)\n",
    "    i+=1\n",
    "print('\\n',Number_list)\n"
   ]
  },
  {
   "cell_type": "markdown",
   "id": "62ef353a",
   "metadata": {},
   "source": [
    "Q5. Write a program to filter count vowels in the below-given string.\n",
    "string = \"I want to become a data scientist\""
   ]
  },
  {
   "cell_type": "code",
   "execution_count": 36,
   "id": "058fe56c",
   "metadata": {},
   "outputs": [
    {
     "name": "stdout",
     "output_type": "stream",
     "text": [
      "['a', 'o', 'e', 'o', 'e', 'a', 'a', 'a', 'i', 'e', 'i']\n",
      "11\n"
     ]
    }
   ],
   "source": [
    "def count_vowels(text):\n",
    "    vowels = 'aeiou'\n",
    "    vowels_list = []\n",
    "    for i in text:\n",
    "        if i in vowels:\n",
    "            vowels_list.append(i)\n",
    "    print(vowels_list)\n",
    "    print(len(vowels_list))\n",
    "text = \"I want to become a data scientist\"\n",
    "count_vowels(text)"
   ]
  }
 ],
 "metadata": {
  "kernelspec": {
   "display_name": "Python 3 (ipykernel)",
   "language": "python",
   "name": "python3"
  },
  "language_info": {
   "codemirror_mode": {
    "name": "ipython",
    "version": 3
   },
   "file_extension": ".py",
   "mimetype": "text/x-python",
   "name": "python",
   "nbconvert_exporter": "python",
   "pygments_lexer": "ipython3",
   "version": "3.9.13"
  }
 },
 "nbformat": 4,
 "nbformat_minor": 5
}
