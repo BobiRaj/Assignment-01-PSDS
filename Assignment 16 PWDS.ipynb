{
 "cells": [
  {
   "cell_type": "markdown",
   "id": "60cd662b",
   "metadata": {},
   "source": [
    "# Q1. What is MongoDB? Explain non-relational databases in short. In which scenarios it is preferred to use MongoDB over SQL databases?\n",
    "\n",
    "Ans. MongoDB is a document-oriented NoSQL database that stores data in a flexible, JSON-like format. It is designed to be scalable, flexible, and easy to use.\n",
    "\n",
    "Non-relational databases, also known as NoSQL databases, are databases that do not use the traditional relational model for organizing data. Instead, they use a variety of data models, such as document-based, key-value, column-family, or graph-based, to store and retrieve data. Non-relational databases are often preferred over relational databases for their scalability, flexibility, and performance.\n",
    "\n",
    "MongoDB is often preferred over SQL databases in scenarios where the data is unstructured or semi-structured, such as in web applications, social media, or mobile apps. Some of the key reasons to use MongoDB over SQL databases are:\n",
    "\n",
    "1. Flexibility: MongoDB's document-oriented data model allows for more flexible and dynamic data schemas than traditional relational databases, which require pre-defined tables and columns.\n",
    "\n",
    "2. Scalability: MongoDB is designed to scale horizontally across multiple servers, allowing for high availability and performance even under heavy loads.\n",
    "\n",
    "3. Performance: MongoDB's indexing and querying capabilities allow for fast and efficient retrieval of data, even with large datasets.\n",
    "\n",
    "4. Development speed: MongoDB's flexible data model and query language can allow for faster development cycles and more agile development processes.\n",
    "\n",
    "Overall, MongoDB is a powerful and flexible database solution that is well-suited for a wide range of use cases, especially those that require flexibility, scalability, and performance."
   ]
  },
  {
   "cell_type": "markdown",
   "id": "eef9c947",
   "metadata": {},
   "source": [
    "# Q2. State and Explain the features of MongoDB.\n",
    "Ans. MongoDB is a popular NoSQL database that offers a number of features that make it a powerful and flexible database solution. Here are some of the key features of MongoDB:\n",
    "\n",
    "1. Document-oriented: MongoDB stores data in flexible, JSON-like documents, which allows for more flexible and dynamic data schemas than traditional relational databases.\n",
    "\n",
    "2. High availability: MongoDB is designed to be highly available and fault-tolerant, with built-in support for replication and automatic failover.\n",
    "\n",
    "3. Horizontal scaling: MongoDB can scale horizontally across multiple servers, allowing for high availability and performance even under heavy loads.\n",
    "\n",
    "4. Indexing and querying: MongoDB's indexing and querying capabilities allow for fast and efficient retrieval of data, even with large datasets.\n",
    "\n",
    "5. Aggregation framework: MongoDB's powerful aggregation framework allows for complex data analysis and reporting, including group-by and map-reduce operations.\n",
    "\n",
    "6. Full-text search: MongoDB includes built-in support for full-text search, which allows for powerful and flexible text search capabilities.\n",
    "\n",
    "7. Geospatial indexing: MongoDB supports geospatial indexing and querying, which allows for powerful location-based applications.\n",
    "\n",
    "8. GridFS: MongoDB includes GridFS, a file storage system that allows for the storage and retrieval of large files, such as images or videos.\n",
    "\n",
    "Overall, MongoDB's features make it a powerful and flexible database solution that can be used for a wide range of use cases, from web applications to big data analytics."
   ]
  },
  {
   "cell_type": "markdown",
   "id": "78bbcee4",
   "metadata": {},
   "source": [
    "# Q3. Write a code to connect MongoDB to Python. Also, create a database and a collection in MongoDB.\n",
    "\n",
    "Ans."
   ]
  },
  {
   "cell_type": "code",
   "execution_count": null,
   "id": "d5c235aa",
   "metadata": {},
   "outputs": [],
   "source": [
    "# Import the necessary libraries\n",
    "import pymongo\n",
    "\n",
    "# Create a MongoDB client and connect to the database\n",
    "client = pymongo.MongoClient(\"mongodb://localhost:27017/\")\n",
    "\n",
    "# Create a new database called \"mydatabase\"\n",
    "mydb = client[\"mydatabase\"]\n",
    "\n",
    "# Create a new collection called \"customers\"\n",
    "mycol = mydb[\"customers\"]\n",
    "\n",
    "# Insert a new document into the \"customers\" collection\n",
    "mydict = { \"name\": \"John\", \"address\": \"Highway 37\" }\n",
    "x = mycol.insert_one(mydict)\n",
    "\n",
    "# Print the ID of the inserted document\n",
    "print(x.inserted_id)"
   ]
  },
  {
   "cell_type": "markdown",
   "id": "2d42ecf7",
   "metadata": {},
   "source": [
    "This code uses the pymongo library to connect to the local MongoDB server running on the default port 27017. It then creates a new database called mydatabase and a new collection called customers. Finally, it inserts a new document into the customers collection and prints the ID of the inserted document. Note that you may need to install pymongo using pip before running this code."
   ]
  },
  {
   "cell_type": "markdown",
   "id": "04cd91bb",
   "metadata": {},
   "source": [
    "# Q4. Using the database and the collection created in question number 3, write a code to insert one record, and insert many records. Use the find() and find_one() methods to print the inserted record.\n",
    "\n",
    "Ans. Certainly! Here's an example Python code snippet to insert one record and insert many records into MongoDB, and then use the find() and find_one() methods to print the inserted records:"
   ]
  },
  {
   "cell_type": "code",
   "execution_count": null,
   "id": "3bdd1795",
   "metadata": {},
   "outputs": [],
   "source": [
    "# Import the necessary libraries\n",
    "import pymongo\n",
    "\n",
    "# Create a MongoDB client and connect to the database\n",
    "client = pymongo.MongoClient(\"mongodb://localhost:27017/\")\n",
    "\n",
    "# Create a new database called \"mydatabase\"\n",
    "mydb = client[\"mydatabase\"]\n",
    "\n",
    "# Create a new collection called \"customers\"\n",
    "mycol = mydb[\"customers\"]\n",
    "\n",
    "# Insert one record into the \"customers\" collection\n",
    "mydict1 = { \"name\": \"Alice\", \"age\": 30, \"country\": \"USA\" }\n",
    "x = mycol.insert_one(mydict1)\n",
    "print(\"Inserted record ID:\", x.inserted_id)\n",
    "\n",
    "# Insert many records into the \"customers\" collection\n",
    "mydict2 = [\n",
    "    { \"name\": \"Bob\", \"age\": 25, \"country\": \"Canada\" },\n",
    "    { \"name\": \"Charlie\", \"age\": 35, \"country\": \"UK\" },\n",
    "    { \"name\": \"Dave\", \"age\": 40, \"country\": \"Australia\" }\n",
    "]\n",
    "x = mycol.insert_many(mydict2)\n",
    "print(\"Inserted records IDs:\", x.inserted_ids)\n",
    "\n",
    "# Find and print the inserted record using find_one()\n",
    "result = mycol.find_one({ \"name\": \"Alice\" })\n",
    "print(\"Inserted record using find_one():\", result)\n",
    "\n",
    "# Find and print the inserted records using find()\n",
    "results = mycol.find({ \"country\": \"Canada\" })\n",
    "print(\"Inserted records using find():\")\n",
    "for result in results:\n",
    "    print(result)"
   ]
  },
  {
   "cell_type": "markdown",
   "id": "fe0695ea",
   "metadata": {},
   "source": [
    "This code first inserts one record into the customers collection using the insert_one() method, and then inserts multiple records using the insert_many() method. It then uses the find_one() method to retrieve and print the inserted record with the name \"Alice\", and uses the find() method to retrieve and print all the inserted records with the country \"Canada\". Note that the find() method returns a cursor, which can be iterated over to access the individual documents in the result set."
   ]
  },
  {
   "cell_type": "markdown",
   "id": "1e1a7d83",
   "metadata": {},
   "source": [
    "# Q5. Explain how you can use the find() method to query the MongoDB database. Write a simple code to demonstrate this.\n",
    "\n",
    "Ans. The find() method in MongoDB is used to query a collection and retrieve documents that match the specified query criteria. It allows you to retrieve documents based on one or more field values, and supports a wide range of query operators for performing complex queries.\n",
    "\n",
    "Here's an example Python code snippet to demonstrate the usage of the find() method to query the MongoDB database:"
   ]
  },
  {
   "cell_type": "code",
   "execution_count": null,
   "id": "d2ebeaa3",
   "metadata": {},
   "outputs": [],
   "source": [
    "# Import the necessary libraries\n",
    "import pymongo\n",
    "\n",
    "# Create a MongoDB client and connect to the database\n",
    "client = pymongo.MongoClient(\"mongodb://localhost:27017/\")\n",
    "\n",
    "# Access the \"mydatabase\" database and the \"customers\" collection\n",
    "mydb = client[\"mydatabase\"]\n",
    "mycol = mydb[\"customers\"]\n",
    "\n",
    "# Define the query criteria\n",
    "query = { \"country\": \"USA\", \"age\": { \"$gte\": 25 } }\n",
    "\n",
    "# Retrieve documents that match the query criteria using the find() method\n",
    "results = mycol.find(query)\n",
    "\n",
    "# Print the retrieved documents\n",
    "print(\"Documents that match the query:\")\n",
    "for result in results:\n",
    "    print(result)"
   ]
  },
  {
   "cell_type": "markdown",
   "id": "9b73cde2",
   "metadata": {},
   "source": [
    "In this code, we define a query criteria dictionary with two fields: \"country\" and \"age\". We then use the find() method to retrieve all documents from the \"customers\" collection that match this query criteria. The find() method returns a cursor, which we can iterate over to access the individual documents in the result set. In this example, we simply print the retrieved documents using a loop. Note that the $gte operator in the query criteria specifies a \"greater than or equal to\" condition for the \"age\" field. MongoDB supports a wide range of query operators such as $eq, $ne, $lt, $lte, $gt, $gte, $in, $nin, $exists, $regex, $type, $mod, $all, $elemMatch, $size, and many more, which allows for powerful and flexible querying of data in MongoDB."
   ]
  },
  {
   "cell_type": "markdown",
   "id": "8b63b709",
   "metadata": {},
   "source": [
    "# Q6. Explain the sort() method. Give an example to demonstrate sorting in MongoDB.\n",
    "\n",
    "Ans. The sort() method in MongoDB is used to sort the results of a query in ascending or descending order based on one or more field values. It allows you to specify the sorting order for the retrieved documents, and it can be used in combination with the find() method to control the order in which the documents are returned.\n",
    "\n",
    "The syntax for the sort() method in MongoDB is as follows:"
   ]
  },
  {
   "cell_type": "code",
   "execution_count": null,
   "id": "3c2e918e",
   "metadata": {},
   "outputs": [],
   "source": [
    "sort(fieldname, direction)"
   ]
  },
  {
   "cell_type": "markdown",
   "id": "dd513220",
   "metadata": {},
   "source": [
    "where fieldname is the name of the field by which the results should be sorted, and direction is an integer value that specifies the sorting order. A value of 1 represents ascending order, and a value of -1 represents descending order.\n",
    "\n",
    "Here's an example Python code snippet to demonstrate sorting in MongoDB using the sort() method:"
   ]
  },
  {
   "cell_type": "code",
   "execution_count": null,
   "id": "f97a50e4",
   "metadata": {},
   "outputs": [],
   "source": [
    "# Import the necessary libraries\n",
    "import pymongo\n",
    "\n",
    "# Create a MongoDB client and connect to the database\n",
    "client = pymongo.MongoClient(\"mongodb://localhost:27017/\")\n",
    "\n",
    "# Access the \"mydatabase\" database and the \"customers\" collection\n",
    "mydb = client[\"mydatabase\"]\n",
    "mycol = mydb[\"customers\"]\n",
    "\n",
    "# Sort the documents in ascending order based on the \"age\" field\n",
    "results_asc = mycol.find().sort(\"age\", 1)\n",
    "\n",
    "# Print the documents in ascending order\n",
    "print(\"Documents sorted in ascending order:\")\n",
    "for result in results_asc:\n",
    "    print(result)\n",
    "\n",
    "# Sort the documents in descending order based on the \"age\" field\n",
    "results_desc = mycol.find().sort(\"age\", -1)\n",
    "\n",
    "# Print the documents in descending order\n",
    "print(\"Documents sorted in descending order:\")\n",
    "for result in results_desc:\n",
    "    print(result)"
   ]
  },
  {
   "cell_type": "markdown",
   "id": "b114fd4f",
   "metadata": {},
   "source": [
    "In this code, we use the sort() method to retrieve and print the documents from the \"customers\" collection in ascending order based on the \"age\" field first, and then in descending order based on the same field. The 1 in the sort() method specifies ascending order, and the -1 specifies descending order. Note that you can also specify multiple fields and sorting orders by passing in a list of tuples to the sort() method. For example, sort([(\"field1\", 1), (\"field2\", -1)]) will sort first by \"field1\" in ascending order, and then by \"field2\" in descending order."
   ]
  },
  {
   "cell_type": "markdown",
   "id": "78a7a6f4",
   "metadata": {},
   "source": [
    "# Q7. Explain why delete_one(), delete_many(), and drop() is used.\n",
    "\n",
    "Ans.In MongoDB, delete_one(), delete_many(), and drop() are used for deleting documents and collections from a MongoDB database. Here's an explanation of when and how to use each of these methods:\n",
    "\n",
    "delete_one(): This method is used to delete a single document that matches a specified filter from a collection. It deletes the first document that matches the filter criteria and stops processing further. If multiple documents match the filter, only the first one will be deleted. The syntax for delete_one() is as follows:"
   ]
  },
  {
   "cell_type": "code",
   "execution_count": null,
   "id": "30017402",
   "metadata": {},
   "outputs": [],
   "source": [
    "delete_one(filter)"
   ]
  },
  {
   "cell_type": "markdown",
   "id": "a5196300",
   "metadata": {},
   "source": [
    "where filter is a dictionary that specifies the filter criteria for identifying the document to be deleted.\n",
    "\n",
    "Example usage:"
   ]
  },
  {
   "cell_type": "code",
   "execution_count": null,
   "id": "d1330710",
   "metadata": {},
   "outputs": [],
   "source": [
    "# Delete a single document with name \"John\" from the \"customers\" collection\n",
    "mycol.delete_one({\"name\": \"John\"})"
   ]
  },
  {
   "cell_type": "markdown",
   "id": "444c4a56",
   "metadata": {},
   "source": [
    "delete_many(): This method is used to delete multiple documents that match a specified filter from a collection. It deletes all the documents that match the filter criteria. The syntax for delete_many() is as follows:"
   ]
  },
  {
   "cell_type": "code",
   "execution_count": null,
   "id": "6fe8d474",
   "metadata": {},
   "outputs": [],
   "source": [
    "delete_many(filter)"
   ]
  },
  {
   "cell_type": "markdown",
   "id": "b690e3fe",
   "metadata": {},
   "source": [
    "where filter is a dictionary that specifies the filter criteria for identifying the documents to be deleted.\n",
    "\n",
    "Example usage:"
   ]
  },
  {
   "cell_type": "code",
   "execution_count": null,
   "id": "863852d1",
   "metadata": {},
   "outputs": [],
   "source": [
    "# Delete all documents with country \"USA\" from the \"customers\" collection\n",
    "mycol.delete_many({\"country\": \"USA\"})"
   ]
  },
  {
   "cell_type": "markdown",
   "id": "83760a4f",
   "metadata": {},
   "source": [
    "drop(): This method is used to delete an entire collection from a database. It completely removes the collection, along with all the documents and indexes stored in it. The syntax for drop() is as follows:\n"
   ]
  },
  {
   "cell_type": "code",
   "execution_count": null,
   "id": "f5f1114c",
   "metadata": {},
   "outputs": [],
   "source": [
    "drop()\n",
    "# Delete the entire \"customers\" collection from the database\n",
    "mycol.drop()"
   ]
  },
  {
   "cell_type": "markdown",
   "id": "c3b8fc5b",
   "metadata": {},
   "source": [
    "It's important to use these delete methods with caution, as they permanently remove data from the database. Be sure to double-check your filter criteria before executing delete operations to avoid accidental data loss. Also, make sure to take appropriate backups and have proper authorization and authentication mechanisms in place to ensure data security."
   ]
  }
 ],
 "metadata": {
  "kernelspec": {
   "display_name": "Python 3 (ipykernel)",
   "language": "python",
   "name": "python3"
  },
  "language_info": {
   "codemirror_mode": {
    "name": "ipython",
    "version": 3
   },
   "file_extension": ".py",
   "mimetype": "text/x-python",
   "name": "python",
   "nbconvert_exporter": "python",
   "pygments_lexer": "ipython3",
   "version": "3.9.13"
  }
 },
 "nbformat": 4,
 "nbformat_minor": 5
}
