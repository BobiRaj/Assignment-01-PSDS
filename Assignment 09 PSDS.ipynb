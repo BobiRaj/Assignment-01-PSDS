{
 "cells": [
  {
   "cell_type": "markdown",
   "id": "51e3bace",
   "metadata": {},
   "source": [
    "Q1. What is Abstraction in OOps? Explain with an example."
   ]
  },
  {
   "cell_type": "markdown",
   "id": "0be94564",
   "metadata": {},
   "source": [
    "Answer.  An abstract class can be considered as a blueprint for other classes. It allows you to create a set of methods that must be created within any child classes built from the abstract class. A class which contains one or more abstract methods is called an abstract class."
   ]
  },
  {
   "cell_type": "code",
   "execution_count": 1,
   "id": "7e2f7b21",
   "metadata": {},
   "outputs": [],
   "source": [
    "#Example\n",
    "import abc\n",
    "\n",
    "#We create blueprint for other class\n",
    "class pwskill:\n",
    "    \n",
    "    abc.abstractmethod\n",
    "    def student_detail(self):\n",
    "        pass\n",
    "    \n",
    "    abc.abstractmethod\n",
    "    def student_assignment(self):\n",
    "        pass\n",
    "    \n",
    "    abc.abstractmethod\n",
    "    def student_marks(self):\n",
    "        pass"
   ]
  },
  {
   "cell_type": "code",
   "execution_count": 3,
   "id": "a3345a92",
   "metadata": {},
   "outputs": [],
   "source": [
    "#Know we abstract detail from main class\n",
    "class student_detail(pwskill):\n",
    "    def student_details():\n",
    "        return 'This is method for taking student detail'\n",
    "    def student_assignment():\n",
    "        return 'This is mehtod for taking student assign deatail'"
   ]
  },
  {
   "cell_type": "code",
   "execution_count": 4,
   "id": "79c9c95c",
   "metadata": {},
   "outputs": [
    {
     "data": {
      "text/plain": [
       "<bound method pwskill.student_marks of <__main__.student_detail object at 0x000002068482AC10>>"
      ]
     },
     "execution_count": 4,
     "metadata": {},
     "output_type": "execute_result"
    }
   ],
   "source": [
    "#Kow we call all the method which we use in both class\n",
    "dsa = student_detail()\n",
    "dsa.student_marks"
   ]
  },
  {
   "cell_type": "markdown",
   "id": "350a2f5a",
   "metadata": {},
   "source": [
    "Q2. Differentiate between Abstraction and Encapsulation. Explain with an example."
   ]
  },
  {
   "cell_type": "markdown",
   "id": "adae7158",
   "metadata": {},
   "source": [
    "Answer. Encapsulation hides variables or some implementation that may be changed so often in a class to prevent outsiders access it directly. They must access it via getter and setter methods.\n",
    "\n",
    "Abstraction is used to hide something too, but in a higher degree (class, interface). Clients who use an abstract class (or interface) do not care about what it was, they just need to know what it can do.\n",
    "\n",
    "\n",
    "Here's one example to understand the things:\n",
    "\n",
    "\n",
    "Encapsulation:- In a car so many feature which customer want to know but he not interested in how the engine work. So we hide unnecessary detail from feature list.\n",
    "\n",
    "\n",
    "Abstraction:- In a car we use some feature from other car its is called abstraction.\n",
    " "
   ]
  },
  {
   "cell_type": "markdown",
   "id": "5a2f3fe0",
   "metadata": {},
   "source": [
    "Q3. What is abc module in python? Why is it used?"
   ]
  },
  {
   "cell_type": "markdown",
   "id": "3460fc5f",
   "metadata": {},
   "source": [
    "Answer.  The main goal of the abstract base class is to provide a standardized way to test whether an object adheres to a given specification. It can also prevent any attempt to instantiate a subclass that doesn’t override a particular method in the superclass. And finally, using an abstract class, a class can derive identity from another class without any object inheritance.\n",
    "\n",
    "\n",
    "To understand the need to declare a virtual subclass, we need to consider the example of a list-like object where you don’t want to put a restriction of only considering list or tuple. Before that let’s see how to use isinstance to check against a list or tuple of class. \n",
    "\n",
    "isinstance([], (list, tuple))\n",
    "This isinstance check meets the purpose if you are accepting only a list or tuple. But here the case is different, there is no such restriction. So, this solution is not extensible for a developer who uses your library to send something else other than a list or tuple. Here comes the importance of abstract class. Let’s understand through the below code."
   ]
  },
  {
   "cell_type": "markdown",
   "id": "47cb4a79",
   "metadata": {},
   "source": [
    "Q4. How can we achieve data abstraction?"
   ]
  },
  {
   "cell_type": "markdown",
   "id": "9153b580",
   "metadata": {},
   "source": [
    "Answer. Data Abstraction in Python can be achieved through creating abstract classes and inheriting them later. Before discussing what abstract classes are, let us have a brief introduction of inheritance. Inheritance in OOP is a way through which one class inherits the attributes and methods of another class."
   ]
  },
  {
   "cell_type": "markdown",
   "id": "b7fb2d10",
   "metadata": {},
   "source": [
    "Q5. Can we create an instance of an abstract class? Explain your answer."
   ]
  },
  {
   "cell_type": "markdown",
   "id": "faac3a90",
   "metadata": {},
   "source": [
    "\n",
    "\n",
    "Answer. No, you cannot create an instance of an abstract class in Python. An abstract class is a class that cannot be instantiated and is meant to serve as a blueprint for other classes. The purpose of an abstract class is to define an interface that must be implemented by any concrete (i.e., non-abstract) subclass.\n",
    "\n",
    "For example, consider the following abstract base class definition in Python:\n",
    "\n",
    "import abc\n",
    "\n",
    "class Shape(metaclass=abc.ABCMeta):                                                                                        \n",
    "       \n",
    "       @abc.abstractmethod     \n",
    "       \n",
    "       def area(self):    \n",
    "       \n",
    "           pass\n",
    "\n",
    "    @abc.abstractmethod\n",
    "    def perimeter(self):\n",
    "        pass"
   ]
  }
 ],
 "metadata": {
  "kernelspec": {
   "display_name": "Python 3 (ipykernel)",
   "language": "python",
   "name": "python3"
  },
  "language_info": {
   "codemirror_mode": {
    "name": "ipython",
    "version": 3
   },
   "file_extension": ".py",
   "mimetype": "text/x-python",
   "name": "python",
   "nbconvert_exporter": "python",
   "pygments_lexer": "ipython3",
   "version": "3.9.13"
  }
 },
 "nbformat": 4,
 "nbformat_minor": 5
}
