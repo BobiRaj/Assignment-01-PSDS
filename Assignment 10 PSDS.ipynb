{
 "cells": [
  {
   "cell_type": "markdown",
   "id": "29fec0d5",
   "metadata": {},
   "source": [
    "Q1, Create a vehicle class with an init method having instance variables as name_of_vehicle, max_speed\n",
    "and average_of_vehicle."
   ]
  },
  {
   "cell_type": "code",
   "execution_count": 11,
   "id": "55e93253",
   "metadata": {},
   "outputs": [],
   "source": [
    "class vehicle:\n",
    "    def __init__(self, name_of_vehicle, max_speed, average_of_vehicle):\n",
    "        self.name_of_vehicle = name_of_vehicle\n",
    "        self.max_speed = max_speed\n",
    "        self.average_of_vehicle = average_of_vehicle"
   ]
  },
  {
   "cell_type": "code",
   "execution_count": 12,
   "id": "27db0047",
   "metadata": {},
   "outputs": [],
   "source": [
    "car = vehicle('WagonR', 120, 18)"
   ]
  },
  {
   "cell_type": "markdown",
   "id": "d3e89643",
   "metadata": {},
   "source": [
    "Q2. Create a child class car from the vehicle class created in Que 1, which will inherit the vehicle class.\n",
    "Create a method named seating_capacity which takes capacity as an argument and returns the name of\n",
    "the vehicle and its seating capacity."
   ]
  },
  {
   "cell_type": "code",
   "execution_count": 16,
   "id": "7d23b36b",
   "metadata": {},
   "outputs": [],
   "source": [
    "class car(vehicle):\n",
    "    def seating_capacity(self, capacity):\n",
    "        return f'Seating capacity of {self.name_of_vehicle} is {capacity}'"
   ]
  },
  {
   "cell_type": "code",
   "execution_count": 17,
   "id": "a9faeb18",
   "metadata": {},
   "outputs": [
    {
     "data": {
      "text/plain": [
       "'Seating capacity of WagonR is 5'"
      ]
     },
     "execution_count": 17,
     "metadata": {},
     "output_type": "execute_result"
    }
   ],
   "source": [
    "car = car('WagonR', 120, 18)\n",
    "car.seating_capacity(5)"
   ]
  },
  {
   "cell_type": "markdown",
   "id": "faf531fb",
   "metadata": {},
   "source": [
    "Q3. What is multiple inheritance? Write a python code to demonstrate multiple inheritance."
   ]
  },
  {
   "cell_type": "markdown",
   "id": "a843c218",
   "metadata": {},
   "source": [
    "Answer.  When a class is derived from more than one base class it is called multiple Inheritance. The derived class inherits all the features of the base case."
   ]
  },
  {
   "cell_type": "code",
   "execution_count": 18,
   "id": "4ec1c973",
   "metadata": {},
   "outputs": [],
   "source": [
    "# multiple inheritance\n",
    "class student_welcom():\n",
    "    \n",
    "    def say_welcom(self):\n",
    "        return 'welcom to the class'\n",
    "\n",
    "class start_class():\n",
    "    \n",
    "    def start(self):\n",
    "        return 'Class start soon thanks for wait'\n",
    "\n",
    "class call_class(student_welcom, start_class):\n",
    "    \n",
    "    pass\n",
    "    "
   ]
  },
  {
   "cell_type": "code",
   "execution_count": 19,
   "id": "2e28939d",
   "metadata": {},
   "outputs": [],
   "source": [
    "student = call_class()"
   ]
  },
  {
   "cell_type": "code",
   "execution_count": 20,
   "id": "dcfb741d",
   "metadata": {},
   "outputs": [
    {
     "data": {
      "text/plain": [
       "'welcom to the class'"
      ]
     },
     "execution_count": 20,
     "metadata": {},
     "output_type": "execute_result"
    }
   ],
   "source": [
    "student.say_welcom()"
   ]
  },
  {
   "cell_type": "code",
   "execution_count": 21,
   "id": "8b0aa2c5",
   "metadata": {},
   "outputs": [
    {
     "data": {
      "text/plain": [
       "'Class start soon thanks for wait'"
      ]
     },
     "execution_count": 21,
     "metadata": {},
     "output_type": "execute_result"
    }
   ],
   "source": [
    "student.start()"
   ]
  },
  {
   "cell_type": "markdown",
   "id": "3663549d",
   "metadata": {},
   "source": [
    "Q4. What are getter and setter in python? Create a class and create a getter and a setter method in this\n",
    "class."
   ]
  },
  {
   "cell_type": "markdown",
   "id": "4298dc96",
   "metadata": {},
   "source": [
    "* We use getters & setters to add validation logic around getting and setting a value.\n",
    "\n",
    "* To avoid direct access of a class field i.e. private variables cannot be accessed directly or modified by external user"
   ]
  },
  {
   "cell_type": "code",
   "execution_count": 35,
   "id": "f600337f",
   "metadata": {},
   "outputs": [],
   "source": [
    "class vehicle:\n",
    "    def __init__(self, name_of_vehicle, max_speed, average_of_vehicle):\n",
    "        self.__name_of_vehicle = name_of_vehicle\n",
    "        self.__max_speed = max_speed\n",
    "        self.__average_of_vehicle = average_of_vehicle\n",
    "    \n",
    "    def set_speed(self, max_speed):\n",
    "        self.__max_speed = 120 if max_speed > 120 else max_speed\n",
    "    \n",
    "    def get_speed(self):\n",
    "        return self.__max_speed"
   ]
  },
  {
   "cell_type": "code",
   "execution_count": 36,
   "id": "c99fac01",
   "metadata": {},
   "outputs": [],
   "source": [
    "car = vehicle('WagonR', 120, 18)"
   ]
  },
  {
   "cell_type": "code",
   "execution_count": 37,
   "id": "c1e0a94d",
   "metadata": {},
   "outputs": [],
   "source": [
    "car.set_speed(444)"
   ]
  },
  {
   "cell_type": "code",
   "execution_count": 38,
   "id": "b9729c78",
   "metadata": {},
   "outputs": [
    {
     "data": {
      "text/plain": [
       "120"
      ]
     },
     "execution_count": 38,
     "metadata": {},
     "output_type": "execute_result"
    }
   ],
   "source": [
    "car.get_speed()"
   ]
  },
  {
   "cell_type": "markdown",
   "id": "55afa840",
   "metadata": {},
   "source": [
    "Q5.What is method overriding in python? Write a python code to demonstrate method overriding."
   ]
  },
  {
   "cell_type": "markdown",
   "id": "b5b087f9",
   "metadata": {},
   "source": [
    "Answer. In object-oriented programming, method overriding is the ability of a subclass to provide a different \n",
    "implementation of a method that is already defined in its parent class. This allows the subclass to inherit the behavior of \n",
    "the parent class but to modify it as needed to fit its specific needs."
   ]
  },
  {
   "cell_type": "code",
   "execution_count": 41,
   "id": "6010e4a1",
   "metadata": {},
   "outputs": [],
   "source": [
    "class student_welcom():\n",
    "    \n",
    "    def say_welcom(self):\n",
    "        return 'welcom to the class'\n",
    "\n",
    "class start_class(student_welcom):\n",
    "    \n",
    "    def start(self):\n",
    "        return 'Class start soon thanks for wait'\n",
    "\n",
    "class call_class(start_class):\n",
    "    \n",
    "    pass"
   ]
  },
  {
   "cell_type": "code",
   "execution_count": 42,
   "id": "d2376a7a",
   "metadata": {},
   "outputs": [],
   "source": [
    "stu = call_class()"
   ]
  },
  {
   "cell_type": "code",
   "execution_count": 43,
   "id": "0d2fec5b",
   "metadata": {},
   "outputs": [
    {
     "data": {
      "text/plain": [
       "'welcom to the class'"
      ]
     },
     "execution_count": 43,
     "metadata": {},
     "output_type": "execute_result"
    }
   ],
   "source": [
    "stu.say_welcom()"
   ]
  },
  {
   "cell_type": "code",
   "execution_count": 45,
   "id": "13636a0f",
   "metadata": {},
   "outputs": [
    {
     "data": {
      "text/plain": [
       "'Class start soon thanks for wait'"
      ]
     },
     "execution_count": 45,
     "metadata": {},
     "output_type": "execute_result"
    }
   ],
   "source": [
    "stu.start()"
   ]
  },
  {
   "cell_type": "code",
   "execution_count": null,
   "id": "69ab87c2",
   "metadata": {},
   "outputs": [],
   "source": []
  }
 ],
 "metadata": {
  "kernelspec": {
   "display_name": "Python 3 (ipykernel)",
   "language": "python",
   "name": "python3"
  },
  "language_info": {
   "codemirror_mode": {
    "name": "ipython",
    "version": 3
   },
   "file_extension": ".py",
   "mimetype": "text/x-python",
   "name": "python",
   "nbconvert_exporter": "python",
   "pygments_lexer": "ipython3",
   "version": "3.9.13"
  }
 },
 "nbformat": 4,
 "nbformat_minor": 5
}
