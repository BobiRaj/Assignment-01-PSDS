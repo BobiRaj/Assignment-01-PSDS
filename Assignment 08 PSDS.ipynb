{
 "cells": [
  {
   "cell_type": "markdown",
   "id": "3b2274eb",
   "metadata": {},
   "source": [
    "Q1. You are writing code for a company. The requirement of the company is that you create a python\n",
    "function that will check whether the password entered by the user is correct or not. The function should\n",
    "take the password as input and return the string “Valid Password” if the entered password follows the\n",
    "below-given password guidelines else it should return “Invalid Password”.\n",
    "\n",
    "\n",
    "Note: \n",
    "1. The Password should contain at least two uppercase letters and at least two lowercase letters.\n",
    "\n",
    "2. The Password should contain at least a number and three special characters.\n",
    "\n",
    "3. The length of the password should be 10 characters long."
   ]
  },
  {
   "cell_type": "code",
   "execution_count": 42,
   "id": "49a434f3",
   "metadata": {},
   "outputs": [
    {
     "name": "stdout",
     "output_type": "stream",
     "text": [
      "Enter a password: BobyRaj@#$1234\n",
      "Your password validation is correct\n"
     ]
    }
   ],
   "source": [
    "import re\n",
    "\n",
    "def validate():\n",
    "    password = input(\"Enter a password: \")\n",
    "    uppercase = 0\n",
    "    lowercase = 0\n",
    "    special_char = 0\n",
    "    for i in password:\n",
    "        if not len(password) > 10:\n",
    "            print(\"Make sure your password is at lest 10 letters\")\n",
    "            break\n",
    "        elif i.isupper():\n",
    "            uppercase+=1\n",
    "        elif i.islower(): \n",
    "            lowercase+=1\n",
    "        elif re.search('[$#@!%^&*~`]',i):\n",
    "            special_char+=1\n",
    "        elif uppercase >= 2 and lowercase >= 2 and special_char >= 3:\n",
    "            print('Your password validation is correct')\n",
    "            break\n",
    "        else:\n",
    "            print(''' Plese\n",
    "                    The Password should contain at least two uppercase letters and at least two lowercase letters.\n",
    "                    The Password should contain at least a number and three special characters.\n",
    "                    The length of the password should be 10 characters long.''')\n",
    "            break\n",
    "\n",
    "validate()"
   ]
  },
  {
   "cell_type": "markdown",
   "id": "3b7d91bb",
   "metadata": {},
   "source": [
    "Q2. Solve the below-given questions using at least one of the following:\n",
    "1. Lambda function\n",
    "2. Filter function\n",
    "3. Zap function\n",
    "4. List Comprehension\n",
    "\n",
    "* Check if the string starts with a particular letter.\n",
    "\n",
    "* Check if the string is numeric.\n",
    "\n",
    "* Sort a list of tuples having fruit names and their quantity. [(\"mango\",99),(\"orange\",80), (\"grapes\", 1000)]\n",
    "\n",
    "* Find the squares of numbers from 1 to 10.\n",
    "\n",
    "* Find the cube root of numbers from 1 to 10.\n",
    "\n",
    "* Check if a given number is even.\n",
    "\n",
    "* Filter odd numbers from the given list.\n",
    "[1,2,3,4,5,6,7,8,9,10]\n",
    "\n",
    "* Sort a list of integers into positive and negative integers lists.\n",
    "[1,2,3,4,5,6,-1,-2,-3,-4,-5,0]"
   ]
  },
  {
   "cell_type": "markdown",
   "id": "d9b00846",
   "metadata": {},
   "source": [
    "Check if the string starts with a particular letter."
   ]
  },
  {
   "cell_type": "code",
   "execution_count": 59,
   "id": "97a44ace",
   "metadata": {},
   "outputs": [],
   "source": [
    "string = lambda x: True if x.startswith('b') else False"
   ]
  },
  {
   "cell_type": "code",
   "execution_count": 60,
   "id": "995bff36",
   "metadata": {},
   "outputs": [
    {
     "data": {
      "text/plain": [
       "True"
      ]
     },
     "execution_count": 60,
     "metadata": {},
     "output_type": "execute_result"
    }
   ],
   "source": [
    "string('bobi')"
   ]
  },
  {
   "cell_type": "markdown",
   "id": "831c5754",
   "metadata": {},
   "source": [
    "Check if the string is numeric."
   ]
  },
  {
   "cell_type": "code",
   "execution_count": 65,
   "id": "6c56591f",
   "metadata": {},
   "outputs": [],
   "source": [
    "numariccheck = lambda x: True if x.isnumeric() else False"
   ]
  },
  {
   "cell_type": "code",
   "execution_count": 66,
   "id": "42024202",
   "metadata": {},
   "outputs": [
    {
     "data": {
      "text/plain": [
       "True"
      ]
     },
     "execution_count": 66,
     "metadata": {},
     "output_type": "execute_result"
    }
   ],
   "source": [
    "numariccheck('1234')"
   ]
  },
  {
   "cell_type": "markdown",
   "id": "09d923b3",
   "metadata": {},
   "source": [
    "Sort a list of tuples having fruit names and their quantity. [(\"mango\",99),(\"orange\",80), (\"grapes\", 1000)]"
   ]
  },
  {
   "cell_type": "code",
   "execution_count": 71,
   "id": "cbf989f3",
   "metadata": {},
   "outputs": [
    {
     "name": "stdout",
     "output_type": "stream",
     "text": [
      "[('orange', 80), ('mango', 99), ('grapes', 1000)]\n"
     ]
    }
   ],
   "source": [
    "l = [(\"mango\",99),(\"orange\",80), (\"grapes\", 1000)]\n",
    "sort = sorted(l, key=lambda x: x[1])\n",
    "print(sort)"
   ]
  },
  {
   "cell_type": "markdown",
   "id": "706cddef",
   "metadata": {},
   "source": [
    "Find the squares of numbers from 1 to 10."
   ]
  },
  {
   "cell_type": "code",
   "execution_count": 78,
   "id": "71d8126c",
   "metadata": {},
   "outputs": [],
   "source": [
    "a = [x**2 for x in range(1, 11)]"
   ]
  },
  {
   "cell_type": "code",
   "execution_count": 79,
   "id": "6b54c46e",
   "metadata": {},
   "outputs": [
    {
     "data": {
      "text/plain": [
       "[2, 4, 6, 8, 10, 12, 14, 16, 18, 20]"
      ]
     },
     "execution_count": 79,
     "metadata": {},
     "output_type": "execute_result"
    }
   ],
   "source": [
    "a"
   ]
  },
  {
   "cell_type": "markdown",
   "id": "9c08e433",
   "metadata": {},
   "source": [
    "Find the cube root of numbers from 1 to 10"
   ]
  },
  {
   "cell_type": "code",
   "execution_count": 82,
   "id": "d3bb0571",
   "metadata": {},
   "outputs": [
    {
     "data": {
      "text/plain": [
       "[1.0,\n",
       " 1.2599210498948732,\n",
       " 1.4422495703074083,\n",
       " 1.5874010519681994,\n",
       " 1.7099759466766968,\n",
       " 1.8171205928321397,\n",
       " 1.912931182772389,\n",
       " 2.0,\n",
       " 2.080083823051904,\n",
       " 2.154434690031884]"
      ]
     },
     "execution_count": 82,
     "metadata": {},
     "output_type": "execute_result"
    }
   ],
   "source": [
    "[x**(1/3) for x in range(1, 11)]"
   ]
  },
  {
   "cell_type": "markdown",
   "id": "51fde4d8",
   "metadata": {},
   "source": [
    "Check if a given number is even."
   ]
  },
  {
   "cell_type": "code",
   "execution_count": 84,
   "id": "38c71f81",
   "metadata": {},
   "outputs": [],
   "source": [
    "check_even = lambda i: True if i%2==0 else False"
   ]
  },
  {
   "cell_type": "code",
   "execution_count": 85,
   "id": "9151c29e",
   "metadata": {},
   "outputs": [
    {
     "data": {
      "text/plain": [
       "True"
      ]
     },
     "execution_count": 85,
     "metadata": {},
     "output_type": "execute_result"
    }
   ],
   "source": [
    "check_even(34)"
   ]
  },
  {
   "cell_type": "markdown",
   "id": "3661164a",
   "metadata": {},
   "source": [
    "Filter odd numbers from the given list. [1,2,3,4,5,6,7,8,9,10]"
   ]
  },
  {
   "cell_type": "code",
   "execution_count": 86,
   "id": "057ea952",
   "metadata": {},
   "outputs": [
    {
     "data": {
      "text/plain": [
       "[1, 3, 5, 7, 9]"
      ]
     },
     "execution_count": 86,
     "metadata": {},
     "output_type": "execute_result"
    }
   ],
   "source": [
    "l = [1,2,3,4,5,6,7,8,9,10] \n",
    "[i for i in l if i%2 != 0]"
   ]
  },
  {
   "cell_type": "markdown",
   "id": "5d9968dc",
   "metadata": {},
   "source": [
    "Sort a list of integers into positive and negative integers lists. [1,2,3,4,5,6,-1,-2,-3,-4,-5,0]"
   ]
  },
  {
   "cell_type": "code",
   "execution_count": 93,
   "id": "486ecc96",
   "metadata": {},
   "outputs": [],
   "source": [
    "l =  [1,2,3,4,5,6,-1,-2,-3,-4,-5,0]\n",
    "posivte = list(filter(lambda x: x>0,l))\n",
    "negativ = list(filter(lambda x: x<0,l))"
   ]
  },
  {
   "cell_type": "code",
   "execution_count": 94,
   "id": "bfddb04c",
   "metadata": {},
   "outputs": [
    {
     "name": "stdout",
     "output_type": "stream",
     "text": [
      "[1, 2, 3, 4, 5, 6] [-1, -2, -3, -4, -5]\n"
     ]
    }
   ],
   "source": [
    "print(posivte,negativ)"
   ]
  },
  {
   "cell_type": "code",
   "execution_count": null,
   "id": "5d6ac0e7",
   "metadata": {},
   "outputs": [],
   "source": []
  }
 ],
 "metadata": {
  "kernelspec": {
   "display_name": "Python 3 (ipykernel)",
   "language": "python",
   "name": "python3"
  },
  "language_info": {
   "codemirror_mode": {
    "name": "ipython",
    "version": 3
   },
   "file_extension": ".py",
   "mimetype": "text/x-python",
   "name": "python",
   "nbconvert_exporter": "python",
   "pygments_lexer": "ipython3",
   "version": "3.9.13"
  }
 },
 "nbformat": 4,
 "nbformat_minor": 5
}
