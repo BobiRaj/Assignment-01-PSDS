{
 "cells": [
  {
   "cell_type": "markdown",
   "id": "c710ff96",
   "metadata": {},
   "source": [
    "# Q1. What is an Exception in python? Write the difference between Exceptions and Syntax errors.\n",
    "\n",
    "Ans.  An exception is an event that occurs during the execution of a program that disrupts the normal flow of the program's instructions. When an exception is encountered, Python raises an object that represents the type of error that occurred, along with a message that describes the nature of the error.\n",
    "\n",
    "Exceptions can occur due to a variety of reasons, such as invalid input, insufficient memory, or division by zero. Python provides built-in exception classes for common types of errors, such as ValueError, TypeError, and ZeroDivisionError, and also allows developers to define their own custom exceptions.\n",
    "\n",
    "On the other hand, syntax errors occur when the code violates the syntax rules of the Python language. These errors are detected by the Python interpreter during the parsing stage, before the program is actually executed. Syntax errors typically result from missing or incorrect keywords, operators, or punctuation, and are easy to fix once identified.\n",
    "\n",
    "The key difference between exceptions and syntax errors is that syntax errors are detected by the Python interpreter before the program is executed, while exceptions occur during program execution. Syntax errors can be fixed by correcting the syntax error in the code, while exceptions are often caused by runtime errors and require additional handling to prevent the program from crashing."
   ]
  },
  {
   "cell_type": "markdown",
   "id": "0c1bfaf3",
   "metadata": {},
   "source": [
    "# Q2. What happens when an exception is not handled? Explain with an example.\n",
    "\n",
    "Ans. When an exception is not handled, it will cause the program to terminate and display an error message that includes the type of exception, the location in the code where the exception occurred, and the traceback, which is a list of function calls that were active at the time the exception occurred.\n",
    "\n",
    "For example, consider the following code that attempts to open a file and read its contents:"
   ]
  },
  {
   "cell_type": "code",
   "execution_count": 2,
   "id": "a8671f1d",
   "metadata": {},
   "outputs": [
    {
     "name": "stdout",
     "output_type": "stream",
     "text": [
      "Error: file not found\n"
     ]
    }
   ],
   "source": [
    "try:\n",
    "    with open('file.txt', 'r') as f:\n",
    "        print(f.read())\n",
    "except FileNotFoundError:\n",
    "    print(\"Error: file not found\")"
   ]
  },
  {
   "cell_type": "markdown",
   "id": "9bab18ff",
   "metadata": {},
   "source": [
    "\n",
    "In this code, the open() function is wrapped in a try-except block that catches the FileNotFoundError exception if the file does not exist. If the exception is not caught, the program will terminate.\n",
    "To prevent this kind of error from occurring, it is important to handle exceptions in a way that allows the program to recover from the error and continue executing. This can involve logging the error, displaying an informative message to the user, or taking corrective action to address the underlying issue that caused the exception."
   ]
  },
  {
   "cell_type": "markdown",
   "id": "2e28fba4",
   "metadata": {},
   "source": [
    "# Q3. Which Python statements are used to catch and handle exceptions? Explain with an example.\n",
    "\n",
    "Ans. Python provides two statements to catch and handle exceptions: try and except. These statements allow developers to write code that can detect and recover from errors that occur during program execution.\n",
    "\n",
    "The try statement is used to enclose a block of code that may raise an exception. If an exception is raised within the try block, control is transferred to the nearest except block that matches the type of exception. The except block can then handle the exception by performing error recovery, logging the error, or raising a different exception.\n",
    "\n",
    "Here's an example that demonstrates the use of try and except statements to handle an exception:"
   ]
  },
  {
   "cell_type": "code",
   "execution_count": 3,
   "id": "99f12a4f",
   "metadata": {},
   "outputs": [
    {
     "name": "stdout",
     "output_type": "stream",
     "text": [
      "Enter a number: 0\n",
      "Error: Division by zero\n"
     ]
    }
   ],
   "source": [
    "try:\n",
    "    x = int(input(\"Enter a number: \"))\n",
    "    y = 100 / x\n",
    "    print(\"Result:\", y)\n",
    "except ValueError:\n",
    "    print(\"Error: Invalid input\")\n",
    "except ZeroDivisionError:\n",
    "    print(\"Error: Division by zero\")"
   ]
  },
  {
   "cell_type": "markdown",
   "id": "91fd9937",
   "metadata": {},
   "source": [
    "In this code, the try block contains three statements: the first statement prompts the user to enter a number, and the next two statements perform a division operation and print the result. If the user enters a non-numeric value or a zero, the division operation will raise an exception.\n",
    "\n",
    "The except block contains two handlers that match the possible exceptions that can be raised: ValueError and ZeroDivisionError. If the user enters an invalid input, such as a string or a floating-point number, the ValueError handler will execute and print an error message. If the user enters a zero, the ZeroDivisionError handler will execute and print a different error message.\n",
    "\n",
    "By using try and except statements, this code can handle potential errors in a controlled way, allowing the program to recover and continue executing even if an exception is raised."
   ]
  },
  {
   "cell_type": "markdown",
   "id": "8878d4da",
   "metadata": {},
   "source": [
    "# Q4. Explain with an example: \n",
    "    a. try and else\n",
    "    b. finally\n",
    "    c. raise\n",
    "\n",
    "Ans. a. try and else:\n",
    "The else block can be used in conjunction with the try statement to specify a block of code that should be executed only if no exception is raised within the try block. Here's an example:"
   ]
  },
  {
   "cell_type": "code",
   "execution_count": 5,
   "id": "9ce52dde",
   "metadata": {},
   "outputs": [
    {
     "name": "stdout",
     "output_type": "stream",
     "text": [
      "Enter a number: o\n",
      "Error: Invalid input\n"
     ]
    }
   ],
   "source": [
    "try:\n",
    "    x = int(input(\"Enter a number: \"))\n",
    "except ValueError:\n",
    "    print(\"Error: Invalid input\")\n",
    "else:\n",
    "    y = 100 / x\n",
    "    print(\"Result:\", y)"
   ]
  },
  {
   "cell_type": "markdown",
   "id": "65848cbf",
   "metadata": {},
   "source": [
    "In this code, the try block contains only the statement that prompts the user to enter a number. If the user enters an invalid input, such as a string or a floating-point number, the ValueError handler in the except block will execute and print an error message. If the user enters a valid integer, the else block will execute, perform a division operation, and print the result.\n",
    "b. finally:\n",
    "The finally block can be used to specify a block of code that should be executed regardless of whether an exception is raised or not. This is useful for tasks such as closing resources, releasing locks, or logging information. Here's an example:"
   ]
  },
  {
   "cell_type": "code",
   "execution_count": 8,
   "id": "a985da21",
   "metadata": {},
   "outputs": [
    {
     "name": "stdout",
     "output_type": "stream",
     "text": [
      "Error: File not found\n"
     ]
    },
    {
     "ename": "NameError",
     "evalue": "name 'f' is not defined",
     "output_type": "error",
     "traceback": [
      "\u001b[1;31m---------------------------------------------------------------------------\u001b[0m",
      "\u001b[1;31mNameError\u001b[0m                                 Traceback (most recent call last)",
      "\u001b[1;32m~\\AppData\\Local\\Temp\\ipykernel_13116\\4121604273.py\u001b[0m in \u001b[0;36m<module>\u001b[1;34m\u001b[0m\n\u001b[0;32m      5\u001b[0m     \u001b[0mprint\u001b[0m\u001b[1;33m(\u001b[0m\u001b[1;34m\"Error: File not found\"\u001b[0m\u001b[1;33m)\u001b[0m\u001b[1;33m\u001b[0m\u001b[1;33m\u001b[0m\u001b[0m\n\u001b[0;32m      6\u001b[0m \u001b[1;32mfinally\u001b[0m\u001b[1;33m:\u001b[0m\u001b[1;33m\u001b[0m\u001b[1;33m\u001b[0m\u001b[0m\n\u001b[1;32m----> 7\u001b[1;33m     \u001b[0mf\u001b[0m\u001b[1;33m.\u001b[0m\u001b[0mclose\u001b[0m\u001b[1;33m(\u001b[0m\u001b[1;33m)\u001b[0m\u001b[1;33m\u001b[0m\u001b[1;33m\u001b[0m\u001b[0m\n\u001b[0m",
      "\u001b[1;31mNameError\u001b[0m: name 'f' is not defined"
     ]
    }
   ],
   "source": [
    "try:\n",
    "    f = open(\"file.txt\", \"r\")\n",
    "    print(f.read())\n",
    "except FileNotFoundError:\n",
    "    print(\"Error: File not found\")\n",
    "finally:\n",
    "    f.close()"
   ]
  },
  {
   "cell_type": "markdown",
   "id": "c76d7ba2",
   "metadata": {},
   "source": [
    "In this code, the try block attempts to open a file and read its contents. If the file is not found, the FileNotFoundError handler in the except block will execute and print an error message. Regardless of whether an exception is raised or not, the finally block will execute and close the file to release the resource.\n",
    "c. raise:\n",
    "The raise statement can be used to raise an exception programmatically. This is useful when the program detects an error condition that cannot be handled automatically, or when the program needs to signal an error to a calling function or module. Here's an example:"
   ]
  },
  {
   "cell_type": "code",
   "execution_count": 9,
   "id": "36c6324b",
   "metadata": {},
   "outputs": [
    {
     "name": "stdout",
     "output_type": "stream",
     "text": [
      "Error: Division by zero\n"
     ]
    }
   ],
   "source": [
    "def divide(x, y):\n",
    "    if y == 0:\n",
    "        raise ValueError(\"Error: Division by zero\")\n",
    "    else:\n",
    "        return x / y\n",
    "\n",
    "try:\n",
    "    result = divide(100, 0)\n",
    "except ValueError as e:\n",
    "    print(e)"
   ]
  },
  {
   "cell_type": "markdown",
   "id": "5ff8bd05",
   "metadata": {},
   "source": [
    "In this code, the divide() function checks whether the second argument is zero before performing a division operation. If the second argument is zero, the function raises a ValueError exception with a custom error message. The try block calls the divide() function with arguments that will cause an exception to be raised, and the except block catches the exception and prints the error message."
   ]
  },
  {
   "cell_type": "markdown",
   "id": "f25a1a0b",
   "metadata": {},
   "source": [
    "# Q5. What are Custom Exceptions in python? Why do we need Custom Exceptions? Explain with an example.\n",
    "\n",
    "Ans. Custom exceptions, also known as user-defined exceptions, are exceptions that are created by the developer to handle specific error conditions that may arise in their program. Python allows developers to create their own custom exceptions by subclassing the built-in Exception class or any of its subclasses.\n",
    "\n",
    "Custom exceptions are useful when a program needs to handle specific types of errors that are not covered by the built-in exceptions. They can also make the code more readable and maintainable by providing meaningful error messages and separating the error handling logic from the main code.\n",
    "\n",
    "Here's an example of creating and using a custom exception:"
   ]
  },
  {
   "cell_type": "code",
   "execution_count": 10,
   "id": "e3747f95",
   "metadata": {},
   "outputs": [
    {
     "name": "stdout",
     "output_type": "stream",
     "text": [
      "pear is out of stock\n"
     ]
    }
   ],
   "source": [
    "class OutOfStockError(Exception):\n",
    "    pass\n",
    "\n",
    "def buy_item(item_name, inventory):\n",
    "    if item_name not in inventory:\n",
    "        raise OutOfStockError(f\"{item_name} is out of stock\")\n",
    "    else:\n",
    "        print(f\"Bought {item_name}\")\n",
    "\n",
    "inventory = {\"apple\": 5, \"banana\": 2}\n",
    "\n",
    "try:\n",
    "    buy_item(\"pear\", inventory)\n",
    "except OutOfStockError as e:\n",
    "    print(e)"
   ]
  },
  {
   "cell_type": "markdown",
   "id": "5a84be9b",
   "metadata": {},
   "source": [
    "In this code, we define a custom exception OutOfStockError by subclassing the Exception class. We then define a function buy_item() that checks whether an item is in the inventory and raises the OutOfStockError exception if it is not. The try block calls the buy_item() function with an item that is not in the inventory, causing the OutOfStockError exception to be raised. The except block catches the exception and prints the error message.\n",
    "\n",
    "By using a custom exception, we can provide a meaningful error message that indicates the specific error condition (i.e., the item is out of stock) and separate the error handling logic from the main code. This can make the code more readable and maintainable, especially in larger projects."
   ]
  },
  {
   "cell_type": "markdown",
   "id": "72b7df07",
   "metadata": {},
   "source": [
    "# Q6. Create a custom exception class. Use this class to handle an exception. \n",
    "\n",
    "Ans. Here's an example of creating a custom exception class and using it to handle an exception:"
   ]
  },
  {
   "cell_type": "code",
   "execution_count": 11,
   "id": "6b2cee4f",
   "metadata": {},
   "outputs": [
    {
     "name": "stdout",
     "output_type": "stream",
     "text": [
      "Error: Cannot take the square root of a negative number\n"
     ]
    }
   ],
   "source": [
    "class NegativeNumberError(Exception):\n",
    "    pass\n",
    "\n",
    "def square_root(n):\n",
    "    if n < 0:\n",
    "        raise NegativeNumberError(\"Error: Cannot take the square root of a negative number\")\n",
    "    else:\n",
    "        return n ** 0.5\n",
    "    \n",
    "try:\n",
    "    result = square_root(-4)\n",
    "except NegativeNumberError as e:\n",
    "    print(e)"
   ]
  },
  {
   "cell_type": "markdown",
   "id": "95547a23",
   "metadata": {},
   "source": [
    "In this code, we define a custom exception class NegativeNumberError by subclassing the Exception class. We then define a function square_root() that checks whether the argument is negative and raises the NegativeNumberError exception if it is. The try block calls the square_root() function with a negative number, causing the NegativeNumberError exception to be raised. The except block catches the exception and prints the error message.\n",
    "\n",
    "By creating a custom exception class, we can handle specific error conditions that are not covered by the built-in exceptions and provide meaningful error messages that can help with debugging and maintenance.\n"
   ]
  }
 ],
 "metadata": {
  "kernelspec": {
   "display_name": "Python 3 (ipykernel)",
   "language": "python",
   "name": "python3"
  },
  "language_info": {
   "codemirror_mode": {
    "name": "ipython",
    "version": 3
   },
   "file_extension": ".py",
   "mimetype": "text/x-python",
   "name": "python",
   "nbconvert_exporter": "python",
   "pygments_lexer": "ipython3",
   "version": "3.9.13"
  }
 },
 "nbformat": 4,
 "nbformat_minor": 5
}
