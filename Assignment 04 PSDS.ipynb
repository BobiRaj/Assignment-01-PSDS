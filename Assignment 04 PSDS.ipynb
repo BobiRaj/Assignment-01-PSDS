{
 "cells": [
  {
   "cell_type": "markdown",
   "id": "e859a57c",
   "metadata": {},
   "source": [
    "Q1. Explain Class and Object with respect to Object-Oriented Programming. Give a suitable example."
   ]
  },
  {
   "cell_type": "raw",
   "id": "005222aa",
   "metadata": {},
   "source": [
    "Class is a blue print of and class is help to define object oriented programming for example we have an object which is a car and it help we define the feture of a car like product name, company name and cost etc.\n",
    "Example:-\n",
    "1) Object car\n",
    "    Car name\n",
    "    Company name\n",
    "    Cost modal number\n",
    "    Car type\n",
    "2) Object Phone\n",
    "    Phone name\n",
    "    Company name\n",
    "    EMEI number\n",
    "    Phone Cost\n",
    "    Phone feture"
   ]
  },
  {
   "cell_type": "markdown",
   "id": "cf090e9d",
   "metadata": {},
   "source": [
    "Q2. Name the four pillars of OOPs."
   ]
  },
  {
   "cell_type": "raw",
   "id": "56e6b392",
   "metadata": {},
   "source": [
    "* Abstraction\n",
    "* Encapsulation\n",
    "* Inheritance\n",
    "* Polymorphism"
   ]
  },
  {
   "cell_type": "markdown",
   "id": "4133f9fe",
   "metadata": {},
   "source": [
    "Q3. Explain why the __init__() function is used. Give a suitable example."
   ]
  },
  {
   "cell_type": "raw",
   "id": "829fd94b",
   "metadata": {},
   "source": [
    "__init__ is a constructor which is help to pars the data in a class"
   ]
  },
  {
   "cell_type": "markdown",
   "id": "6baea550",
   "metadata": {},
   "source": [
    "Q4. Why self is used in OOPs?"
   ]
  },
  {
   "cell_type": "raw",
   "id": "ae60d971",
   "metadata": {},
   "source": [
    "whatever bata we define in class we bind that data with class with the help of self. \n",
    "Self is a pointer to directed toward the class"
   ]
  },
  {
   "cell_type": "markdown",
   "id": "780db44e",
   "metadata": {},
   "source": [
    "Q5. What is inheritance? Give an example for each type of inheritance."
   ]
  },
  {
   "cell_type": "raw",
   "id": "59c23495",
   "metadata": {},
   "source": [
    "Inheritance is defined as the mechanism of inheriting the properties of the base class to the child class.\n",
    "It helps to reduce codability and increase reusability of code there is different type of inheritance."
   ]
  },
  {
   "cell_type": "code",
   "execution_count": 78,
   "id": "5da1df93",
   "metadata": {},
   "outputs": [],
   "source": [
    "# Type of inheritence with example.\n",
    "# Multilevel Inheritance\n",
    "class student_welcom():\n",
    "    \n",
    "    def say_welcom(self):\n",
    "        return 'welcom to the class'\n",
    "\n",
    "class start_class(student_welcom):\n",
    "    \n",
    "    def start(self):\n",
    "        return 'Class start soon thanks for wait'\n",
    "\n",
    "class call_class(start_class):\n",
    "    \n",
    "    pass\n",
    "    "
   ]
  },
  {
   "cell_type": "code",
   "execution_count": 80,
   "id": "d7bcaf58",
   "metadata": {},
   "outputs": [],
   "source": [
    "student = call_class()"
   ]
  },
  {
   "cell_type": "code",
   "execution_count": 81,
   "id": "b5ff88bb",
   "metadata": {},
   "outputs": [
    {
     "data": {
      "text/plain": [
       "'welcom to the class'"
      ]
     },
     "execution_count": 81,
     "metadata": {},
     "output_type": "execute_result"
    }
   ],
   "source": [
    "student.say_welcom()"
   ]
  },
  {
   "cell_type": "code",
   "execution_count": 83,
   "id": "a0b694ec",
   "metadata": {},
   "outputs": [
    {
     "data": {
      "text/plain": [
       "'Class start soon thanks for wait'"
      ]
     },
     "execution_count": 83,
     "metadata": {},
     "output_type": "execute_result"
    }
   ],
   "source": [
    "student.start()"
   ]
  },
  {
   "cell_type": "code",
   "execution_count": 85,
   "id": "acac02de",
   "metadata": {},
   "outputs": [],
   "source": [
    "# multiple inheritance\n",
    "class student_welcom():\n",
    "    \n",
    "    def say_welcom(self):\n",
    "        return 'welcom to the class'\n",
    "\n",
    "class start_class():\n",
    "    \n",
    "    def start(self):\n",
    "        return 'Class start soon thanks for wait'\n",
    "\n",
    "class call_class(student_welcom, start_class):\n",
    "    \n",
    "    pass\n",
    "    "
   ]
  },
  {
   "cell_type": "code",
   "execution_count": 87,
   "id": "ab061a2c",
   "metadata": {},
   "outputs": [],
   "source": [
    "student = call_class()"
   ]
  },
  {
   "cell_type": "code",
   "execution_count": 88,
   "id": "c2dad08e",
   "metadata": {},
   "outputs": [
    {
     "data": {
      "text/plain": [
       "'welcom to the class'"
      ]
     },
     "execution_count": 88,
     "metadata": {},
     "output_type": "execute_result"
    }
   ],
   "source": [
    "student.say_welcom()"
   ]
  },
  {
   "cell_type": "code",
   "execution_count": 89,
   "id": "13f6a51e",
   "metadata": {},
   "outputs": [
    {
     "data": {
      "text/plain": [
       "'Class start soon thanks for wait'"
      ]
     },
     "execution_count": 89,
     "metadata": {},
     "output_type": "execute_result"
    }
   ],
   "source": [
    "student.start()"
   ]
  },
  {
   "cell_type": "code",
   "execution_count": null,
   "id": "817b8e12",
   "metadata": {},
   "outputs": [],
   "source": []
  }
 ],
 "metadata": {
  "kernelspec": {
   "display_name": "Python 3 (ipykernel)",
   "language": "python",
   "name": "python3"
  },
  "language_info": {
   "codemirror_mode": {
    "name": "ipython",
    "version": 3
   },
   "file_extension": ".py",
   "mimetype": "text/x-python",
   "name": "python",
   "nbconvert_exporter": "python",
   "pygments_lexer": "ipython3",
   "version": "3.9.13"
  }
 },
 "nbformat": 4,
 "nbformat_minor": 5
}
