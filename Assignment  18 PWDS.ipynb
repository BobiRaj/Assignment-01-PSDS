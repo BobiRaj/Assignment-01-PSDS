{
 "cells": [
  {
   "cell_type": "markdown",
   "id": "61dde22e",
   "metadata": {},
   "source": [
    "# Q1. What is Flask Framework? What are the advantages of Flask Framework?\n",
    "\n",
    "Ans.Flask is a micro web framework for Python that allows developers to quickly and easily create web applications. It is designed to be simple, lightweight, and flexible, providing a minimalistic approach to web development.\n",
    "\n",
    "Some advantages of using Flask framework are:\n",
    "\n",
    "1. Lightweight and simple: Flask is a micro framework that doesn't impose a lot of constraints or unnecessary features, allowing developers to have more flexibility and control over their application's structure and behavior.\n",
    "\n",
    "2. Easy to get started: Flask has a small learning curve, making it a good choice for beginners who are new to web development or Python. It provides a simple and intuitive API for building web applications, making it easy to get started quickly.\n",
    "\n",
    "3. Flexible and extensible: Flask allows developers to choose and use their preferred tools and libraries for different aspects of web development, such as templating, authentication, and database integration. This gives developers the freedom to design and structure their application according to their specific requirements.\n",
    "\n",
    "4. Large ecosystem of extensions: Flask has a large ecosystem of extensions and libraries that provide additional functionality for common web development tasks, such as authentication, form handling, database integration, and more. This makes it easy to add functionality to your Flask application without reinventing the wheel.\n",
    "\n",
    "5. Integrated with WSGI: Flask is built on top of the Werkzeug WSGI (Web Server Gateway Interface) library, which provides a common interface for communication between web servers and web applications. This makes it easy to deploy Flask applications on various web servers, such as Gunicorn, uWSGI, and mod_wsgi.\n",
    "\n",
    "6. Well-documented: Flask has comprehensive documentation, tutorials, and a supportive community, making it easy to find resources and get help when needed. This makes the development process smoother and more efficient.\n",
    "\n",
    "Overall, Flask is a popular and widely used web framework in Python due to its simplicity, flexibility, and extensibility, making it a preferred choice for many web developers."
   ]
  },
  {
   "cell_type": "markdown",
   "id": "0f0a97cc",
   "metadata": {},
   "source": [
    "# Q2. Create a simple Flask application to display ‘Hello World!!’. Attach the screenshot of the output in Jupyter Notebook."
   ]
  },
  {
   "cell_type": "code",
   "execution_count": null,
   "id": "4a767fc7",
   "metadata": {},
   "outputs": [],
   "source": [
    "from flask import Flask\n",
    "\n",
    "app = Flask(__name__)\n",
    "\n",
    "@app.route('/')\n",
    "def hello():!\n",
    "    return \"Hello World!!\"\n",
    "\n",
    "if __name__ == '__main__':\n",
    "    app.run(debug=True)"
   ]
  },
  {
   "cell_type": "markdown",
   "id": "a08c0bd1",
   "metadata": {},
   "source": [
    "![title](Image_hello_world.png)"
   ]
  },
  {
   "cell_type": "markdown",
   "id": "c9640406",
   "metadata": {},
   "source": [
    "# Q3. What is App routing in Flask? Why do we use app routes?\n",
    "\n",
    "Ans. App routing in Flask refers to defining different routes or URLs in a Flask application to handle different HTTP requests from clients, such as web browsers or APIs. It allows developers to map specific URLs to corresponding Python functions that define the logic to handle those requests and generate appropriate responses.\n",
    "\n",
    "In Flask, routes are defined using the @app.route() decorator, where app is the Flask application instance created using Flask(__name__). The @app.route() decorator is used to specify the URL or route that the function should be associated with, along with the HTTP methods that the function should respond to (e.g., GET, POST, PUT, DELETE).\n",
    "\n",
    "App routing in Flask is used to create the structure and behavior of a web application. It helps in handling different URLs and requests from clients and directing them to the appropriate functions for processing. Some of the main reasons why app routes are used in Flask are:\n",
    "\n",
    "1. URL handling: App routes allow developers to define how different URLs or routes should be handled in a Flask application.  his helps in creating a logical structure for the application's URL paths and defining the corresponding functions to handle the different URLs.\n",
    "\n",
    "2. Request handling: App routes define the functions that handle different HTTP methods (e.g., GET, POST, PUT, DELETE) for specific URLs or routes. This allows developers to create customized behavior for handling different types of HTTP requests from clients.\n",
    "\n",
    "3. Routing flexibility: App routes in Flask provide flexibility in defining complex URL routing patterns and handling different types of requests. This allows for dynamic routing, parameterized URLs, and routing based on specific conditions or criteria.\n",
    "\n",
    "4. Code organization: App routes help in organizing the code of a Flask application by separating the logic for handling different routes into different functions. This promotes a clean and modular code structure, making the application easier to understand, maintain, and update.\n",
    "\n",
    "5. Scalability: App routes allow for easy scalability of a Flask application by adding or modifying routes as needed to handle new features, APIs, or functionalities. This makes it easier to extend the application's functionality without having to modify existing code.\n",
    "\n",
    "Overall, app routing in Flask is a powerful feature that allows developers to define the behavior of a web application by mapping URLs to corresponding functions. It provides flexibility, modularity, and scalability, making it a popular choice for building web applications using Python."
   ]
  },
  {
   "cell_type": "markdown",
   "id": "5a3b1fa3",
   "metadata": {},
   "source": [
    "# Q4. Create a “/welcome” route to display the welcome message “Welcome to ABC Corporation” and a “/” route to show the following details:\n",
    "Company Name: ABC Corporation\n",
    "\n",
    "Location: India\n",
    "\n",
    "Contact Detail: 999-999-9999"
   ]
  },
  {
   "cell_type": "code",
   "execution_count": null,
   "id": "d1f48206",
   "metadata": {},
   "outputs": [],
   "source": [
    "from flask import Flask\n",
    "\n",
    "app = Flask(__name__)\n",
    "\n",
    "@app.route('/welcome')\n",
    "def welcome():\n",
    "    return \"Welcome to ABC Corporation\"\n",
    "\n",
    "@app.route('/')\n",
    "def company_details():\n",
    "    return \"Company Name: ABC Corporation<br>Location: India<br>Contact Detail: 999-999-9999\"\n",
    "\n",
    "if __name__ == '__main__':\n",
    "    app.run(debug=True)"
   ]
  },
  {
   "cell_type": "markdown",
   "id": "f81c540b",
   "metadata": {},
   "source": [
    "![title](01.png)"
   ]
  },
  {
   "cell_type": "markdown",
   "id": "abda7e73",
   "metadata": {},
   "source": [
    "![title](02.png)"
   ]
  },
  {
   "cell_type": "markdown",
   "id": "7eee5316",
   "metadata": {},
   "source": [
    "# Q5. What function is used in Flask for URL Building? Write a Python code to demonstrate the working of the url_for() function.\n",
    "\n",
    "Ans. In Flask, the url_for() function is used for URL building. It is a built-in function that helps generate URLs for routes defined in the Flask application based on the name of the function that defines the route.\n",
    "\n",
    "Here's an example of a Flask application that demonstrates the use of the url_for() function:"
   ]
  },
  {
   "cell_type": "code",
   "execution_count": null,
   "id": "5a6f601f",
   "metadata": {},
   "outputs": [],
   "source": [
    "from flask import Flask, url_for\n",
    "\n",
    "app = Flask(__name__)\n",
    "\n",
    "@app.route('/welcome')\n",
    "def welcome():\n",
    "    return \"Welcome to ABC Corporation\"\n",
    "\n",
    "@app.route('/company_details')\n",
    "def company_details():\n",
    "    return \"Company Name: ABC Corporation<br>Location: India<br>Contact Detail: 999-999-9999\"\n",
    "\n",
    "@app.route('/contact_us')\n",
    "def contact_us():\n",
    "    return \"Contact us at: \" + url_for('company_details')\n",
    "\n",
    "if __name__ == '__main__':\n",
    "    app.run(debug=True)"
   ]
  },
  {
   "cell_type": "markdown",
   "id": "7b98fdb5",
   "metadata": {},
   "source": [
    "In this example, we define three routes: \"/welcome\", \"/company_details\", and \"/contact_us\". The \"/welcome\" and \"/company_details\" routes are the same as in the previous example. The \"/contact_us\" route uses the url_for() function to generate a URL for the \"company_details\" function, which is the name of the function that defines the \"/company_details\" route. The generated URL is then returned as a string in the response of the \"/contact_us\" route.\n",
    "\n",
    "When you run this Flask application and access the \"/contact_us\" route, it will display the message \"Contact us at: /company_details\" as the output, where \"/company_details\" is a clickable link that leads to the \"/company_details\" route."
   ]
  }
 ],
 "metadata": {
  "kernelspec": {
   "display_name": "Python 3 (ipykernel)",
   "language": "python",
   "name": "python3"
  },
  "language_info": {
   "codemirror_mode": {
    "name": "ipython",
    "version": 3
   },
   "file_extension": ".py",
   "mimetype": "text/x-python",
   "name": "python",
   "nbconvert_exporter": "python",
   "pygments_lexer": "ipython3",
   "version": "3.9.13"
  }
 },
 "nbformat": 4,
 "nbformat_minor": 5
}
