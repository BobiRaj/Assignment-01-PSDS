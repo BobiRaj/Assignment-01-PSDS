{
 "cells": [
  {
   "cell_type": "markdown",
   "id": "3c8e771c",
   "metadata": {},
   "source": [
    "Q1. Create a function which will take a list as an argument and return the product of all the numbers\n",
    "after creating a flat list.\n",
    "Use the below-given list as an argument for your function.\n",
    "\n",
    "list1 = [1,2,3,4, [44,55,66, True], False, (34,56,78,89,34), {1,2,3,3,2,1}, {1:34, \"key2\": [55, 67, 78, 89], 4: (45,\n",
    "22, 61, 34)}, [56, 'data science'], 'Machine Learning']\n",
    "\n",
    "\n",
    "\n",
    "Note: you must extract numeric keys and values of the dictionary also."
   ]
  },
  {
   "cell_type": "code",
   "execution_count": 30,
   "id": "64de5416",
   "metadata": {},
   "outputs": [
    {
     "name": "stdout",
     "output_type": "stream",
     "text": [
      "[1, 2, 3, 4, 44, 55, 66, True, False, 34, 56, 78, 89, 34, 1, 2, 3, 1, 34, 55, 67, 78, 89, 4, 45, 22, 61, 34, 56]\n",
      "4134711838987085478833841242112000\n"
     ]
    }
   ],
   "source": [
    "list2 = []\n",
    "def product_of_list(l1):\n",
    "    list2 = []\n",
    "    def item_add(l1):\n",
    "        for i in l1:\n",
    "            if isinstance (i, (int, float)):\n",
    "                list2.append(i)\n",
    "            elif isinstance (i, list):\n",
    "                item_add(i)\n",
    "            elif isinstance (i, tuple):\n",
    "                item_add(i)\n",
    "            elif isinstance (i, set):\n",
    "                item_add(i)\n",
    "            elif isinstance (i, dict):\n",
    "                for key,value in i.items():\n",
    "                    if isinstance (key, (int, float)):\n",
    "                        list2.append(key)\n",
    "                    if isinstance (value, (int, float)):\n",
    "                        list2.append(value)\n",
    "                    if isinstance (value, (list, tuple)):\n",
    "                        item_add(value)\n",
    "    item_add(l1)\n",
    "    print(list2)\n",
    "    product = 1\n",
    "    for i in list2:\n",
    "        if type(i)==int:\n",
    "            product *= i\n",
    "    return product\n",
    "list1 = [1,2,3,4, [44,55,66, True], False, (34,56,78,89,34), {1,2,3,3,2,1}, {1:34, \"key2\": [55, 67, 78, 89], 4: (45,22, 61, 34)}, [56, 'data science'], 'Machine Learning']\n",
    "print(product_of_list(list1))"
   ]
  },
  {
   "cell_type": "markdown",
   "id": "6c19b124",
   "metadata": {},
   "source": [
    "Q2. Write a python program for encrypting a message sent to you by your friend. The logic of encryption\n",
    "should be such that, for a the output should be z. For b, the output should be y. For c, the output should\n",
    "be x respectively. Also, the whitespace should be replaced with a dollar sign. Keep the punctuation\n",
    "marks unchanged.\n",
    "\n",
    "Input Sentence: I want to become a Data Scientist.\n",
    "\n",
    "Encrypt the above input sentence using the program you just created.\n",
    "\n",
    "\n",
    "Note: Convert the given input sentence into lowercase before encrypting. The final output should be\n",
    "lowercase."
   ]
  },
  {
   "cell_type": "code",
   "execution_count": 21,
   "id": "6ba8b215",
   "metadata": {},
   "outputs": [
    {
     "name": "stdout",
     "output_type": "stream",
     "text": [
      "Encrypted Message is  r$dzmg$gl$yvxlnv$z$wzgz$hxrvmgrhg.\n"
     ]
    }
   ],
   "source": [
    "strings = \"I want to become a Data Scientist.\"\n",
    "string1 = strings.lower()\n",
    "import string\n",
    "alphabets = list(string.ascii_lowercase)\n",
    "count = 0\n",
    "length = len(alphabets)\n",
    "enc = []\n",
    "for i in string1:\n",
    "    if i == \" \":\n",
    "        enc.append(\"$\")\n",
    "    elif i.isalpha()== True:\n",
    "        for j in range(0,26):\n",
    "            if i == alphabets[j]:\n",
    "                enc.append(alphabets[length - j-1])\n",
    "            else:\n",
    "                continue\n",
    "    else :\n",
    "        enc.append(i)\n",
    "print(\"Encrypted Message is \", \"\".join(enc))"
   ]
  },
  {
   "cell_type": "code",
   "execution_count": null,
   "id": "11cf20de",
   "metadata": {},
   "outputs": [],
   "source": []
  }
 ],
 "metadata": {
  "kernelspec": {
   "display_name": "Python 3 (ipykernel)",
   "language": "python",
   "name": "python3"
  },
  "language_info": {
   "codemirror_mode": {
    "name": "ipython",
    "version": 3
   },
   "file_extension": ".py",
   "mimetype": "text/x-python",
   "name": "python",
   "nbconvert_exporter": "python",
   "pygments_lexer": "ipython3",
   "version": "3.9.13"
  }
 },
 "nbformat": 4,
 "nbformat_minor": 5
}
